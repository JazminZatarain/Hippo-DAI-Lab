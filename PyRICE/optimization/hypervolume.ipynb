{
 "cells": [
  {
   "cell_type": "markdown",
   "metadata": {
    "pycharm": {
     "name": "#%% md\n"
    }
   },
   "source": [
    "# Notebook for computing Hypervolume\n",
    "\n",
    "This is an example notebook to compute the Hypervolume for problem formulation: Nordhaus + Sufficientarian."
   ]
  },
  {
   "cell_type": "markdown",
   "metadata": {
    "pycharm": {
     "name": "#%% md\n"
    }
   },
   "source": [
    "## Define the Problem"
   ]
  },
  {
   "cell_type": "code",
   "execution_count": 1,
   "metadata": {
    "collapsed": false,
    "jupyter": {
     "outputs_hidden": false
    },
    "pycharm": {
     "name": "#%%\n"
    }
   },
   "outputs": [],
   "source": [
    "from platypus import Solution, Problem\n",
    "\n",
    "# n_objs = 7\n",
    "n_objs = 2\n",
    "\n",
    "n_decision_vars = 3\n",
    "\n",
    "problem = Problem(n_decision_vars, n_objs)\n",
    "\n",
    "# matters for hypervolume\n",
    "problem.directions[0] = Problem.MAXIMIZE  # Total aggregated utility\n",
    "problem.directions[1] = Problem.MINIMIZE  # Distance to threshold 2035\n",
    "# problem.directions[2] = Problem.MINIMIZE  # Distance to threshold 2055\n",
    "# problem.directions[3] = Problem.MINIMIZE  # Distance to threshold 2075\n",
    "# problem.directions[4] = Problem.MINIMIZE  # Population under threshold 2035\n",
    "# problem.directions[5] = Problem.MINIMIZE  # Population under threshold 2055\n",
    "# problem.directions[6] = Problem.MINIMIZE  # Population under threshold 2075\n"
   ]
  },
  {
   "cell_type": "markdown",
   "metadata": {},
   "source": [
    "## Create a Reference Set"
   ]
  },
  {
   "cell_type": "code",
   "execution_count": 32,
   "metadata": {
    "collapsed": false,
    "jupyter": {
     "outputs_hidden": false
    },
    "pycharm": {
     "name": "#%%\n"
    }
   },
   "outputs": [],
   "source": [
    "import pandas as pd\n",
    "\n",
    "data = pd.read_csv('./results/NORDHAUS/SUFFICIENTARIAN/archive_199.csv', index_col=0).iloc[:, :5]\n",
    "\n",
    "ref_set = []\n",
    "for i, row in data.iterrows():\n",
    "    solution = Solution(problem)\n",
    "    solution.objectives = row.values[n_decision_vars::]\n",
    "    ref_set.append(solution)\n",
    "\n",
    "solution = Solution(problem)\n",
    "solution.objectives[:] = 0\n",
    "ref_set.append(solution)"
   ]
  },
  {
   "cell_type": "code",
   "execution_count": 33,
   "metadata": {
    "collapsed": false,
    "jupyter": {
     "outputs_hidden": false
    },
    "pycharm": {
     "name": "#%%\n"
    }
   },
   "outputs": [
    {
     "data": {
      "text/plain": [
       "[Solution[None,None,None|17950.01149723846,0.1128549500431825|0.0],\n",
       " Solution[None,None,None|17900.00278357698,0.1077583820035028|0.0],\n",
       " Solution[None,None,None|17800.076455025675,0.1026389819339177|0.0],\n",
       " Solution[None,None,None|17672.929081473245,0.0988218886159648|0.0],\n",
       " Solution[None,None,None|17700.07249778938,0.0994986686700818|0.0],\n",
       " Solution[None,None,None|17850.02773593795,0.1048049330162721|0.0],\n",
       " Solution[None,None,None|17750.040244121104,0.1009179919660463|0.0],\n",
       " Solution[None,None,None|0,0|0.0]]"
      ]
     },
     "execution_count": 33,
     "metadata": {},
     "output_type": "execute_result"
    }
   ],
   "source": [
    "ref_set"
   ]
  },
  {
   "cell_type": "code",
   "execution_count": 34,
   "metadata": {
    "collapsed": false,
    "jupyter": {
     "outputs_hidden": false
    },
    "pycharm": {
     "name": "#%%\n"
    }
   },
   "outputs": [
    {
     "data": {
      "text/plain": [
       "Total Aggregated Utility      17672.929081\n",
       "Distance to threshold 2035        0.098822\n",
       "dtype: float64"
      ]
     },
     "execution_count": 34,
     "metadata": {},
     "output_type": "execute_result"
    }
   ],
   "source": [
    "data.iloc[:, n_decision_vars::].min()"
   ]
  },
  {
   "cell_type": "code",
   "execution_count": 35,
   "metadata": {
    "collapsed": false,
    "jupyter": {
     "outputs_hidden": false
    },
    "pycharm": {
     "name": "#%%\n"
    }
   },
   "outputs": [
    {
     "data": {
      "text/plain": [
       "Total Aggregated Utility      17950.011497\n",
       "Distance to threshold 2035        0.112855\n",
       "dtype: float64"
      ]
     },
     "execution_count": 35,
     "metadata": {},
     "output_type": "execute_result"
    }
   ],
   "source": [
    "data.iloc[:, n_decision_vars::].max()"
   ]
  },
  {
   "cell_type": "markdown",
   "metadata": {},
   "source": [
    "## Load all archives and merge them"
   ]
  },
  {
   "cell_type": "code",
   "execution_count": 36,
   "metadata": {
    "collapsed": false,
    "jupyter": {
     "outputs_hidden": false
    },
    "pycharm": {
     "name": "#%%\n"
    }
   },
   "outputs": [
    {
     "data": {
      "text/html": [
       "<div>\n",
       "<style scoped>\n",
       "    .dataframe tbody tr th:only-of-type {\n",
       "        vertical-align: middle;\n",
       "    }\n",
       "\n",
       "    .dataframe tbody tr th {\n",
       "        vertical-align: top;\n",
       "    }\n",
       "\n",
       "    .dataframe thead th {\n",
       "        text-align: right;\n",
       "    }\n",
       "</style>\n",
       "<table border=\"1\" class=\"dataframe\">\n",
       "  <thead>\n",
       "    <tr style=\"text-align: right;\">\n",
       "      <th></th>\n",
       "      <th>nfe</th>\n",
       "      <th>sr</th>\n",
       "      <th>miu</th>\n",
       "      <th>irstp</th>\n",
       "      <th>Total Aggregated Utility</th>\n",
       "      <th>Distance to threshold 2035</th>\n",
       "    </tr>\n",
       "  </thead>\n",
       "  <tbody>\n",
       "    <tr>\n",
       "      <th>0</th>\n",
       "      <td>2000</td>\n",
       "      <td>0.224019</td>\n",
       "      <td>2285.041456</td>\n",
       "      <td>0.001234</td>\n",
       "      <td>17213.162297</td>\n",
       "      <td>0.113453</td>\n",
       "    </tr>\n",
       "    <tr>\n",
       "      <th>1</th>\n",
       "      <td>2000</td>\n",
       "      <td>0.151142</td>\n",
       "      <td>2171.439718</td>\n",
       "      <td>0.001604</td>\n",
       "      <td>16130.187858</td>\n",
       "      <td>0.104972</td>\n",
       "    </tr>\n",
       "    <tr>\n",
       "      <th>2</th>\n",
       "      <td>2000</td>\n",
       "      <td>0.109935</td>\n",
       "      <td>2238.029382</td>\n",
       "      <td>0.002411</td>\n",
       "      <td>14039.136180</td>\n",
       "      <td>0.100266</td>\n",
       "    </tr>\n",
       "    <tr>\n",
       "      <th>3</th>\n",
       "      <td>2000</td>\n",
       "      <td>0.100983</td>\n",
       "      <td>2265.027269</td>\n",
       "      <td>0.003319</td>\n",
       "      <td>12140.526480</td>\n",
       "      <td>0.099245</td>\n",
       "    </tr>\n",
       "    <tr>\n",
       "      <th>4</th>\n",
       "      <td>2000</td>\n",
       "      <td>0.123296</td>\n",
       "      <td>2145.405225</td>\n",
       "      <td>0.002071</td>\n",
       "      <td>14890.561676</td>\n",
       "      <td>0.101738</td>\n",
       "    </tr>\n",
       "    <tr>\n",
       "      <th>...</th>\n",
       "      <td>...</td>\n",
       "      <td>...</td>\n",
       "      <td>...</td>\n",
       "      <td>...</td>\n",
       "      <td>...</td>\n",
       "      <td>...</td>\n",
       "    </tr>\n",
       "    <tr>\n",
       "      <th>2</th>\n",
       "      <td>199000</td>\n",
       "      <td>0.133113</td>\n",
       "      <td>2065.146345</td>\n",
       "      <td>0.001000</td>\n",
       "      <td>17800.076455</td>\n",
       "      <td>0.102639</td>\n",
       "    </tr>\n",
       "    <tr>\n",
       "      <th>3</th>\n",
       "      <td>199000</td>\n",
       "      <td>0.100007</td>\n",
       "      <td>2065.009641</td>\n",
       "      <td>0.001000</td>\n",
       "      <td>17672.929081</td>\n",
       "      <td>0.098822</td>\n",
       "    </tr>\n",
       "    <tr>\n",
       "      <th>4</th>\n",
       "      <td>199000</td>\n",
       "      <td>0.105873</td>\n",
       "      <td>2065.077081</td>\n",
       "      <td>0.001000</td>\n",
       "      <td>17700.072498</td>\n",
       "      <td>0.099499</td>\n",
       "    </tr>\n",
       "    <tr>\n",
       "      <th>5</th>\n",
       "      <td>199000</td>\n",
       "      <td>0.151902</td>\n",
       "      <td>2065.064505</td>\n",
       "      <td>0.001000</td>\n",
       "      <td>17850.027736</td>\n",
       "      <td>0.104805</td>\n",
       "    </tr>\n",
       "    <tr>\n",
       "      <th>6</th>\n",
       "      <td>199000</td>\n",
       "      <td>0.118191</td>\n",
       "      <td>2065.003773</td>\n",
       "      <td>0.001000</td>\n",
       "      <td>17750.040244</td>\n",
       "      <td>0.100918</td>\n",
       "    </tr>\n",
       "  </tbody>\n",
       "</table>\n",
       "<p>1386 rows × 6 columns</p>\n",
       "</div>"
      ],
      "text/plain": [
       "       nfe        sr          miu     irstp  Total Aggregated Utility  \\\n",
       "0     2000  0.224019  2285.041456  0.001234              17213.162297   \n",
       "1     2000  0.151142  2171.439718  0.001604              16130.187858   \n",
       "2     2000  0.109935  2238.029382  0.002411              14039.136180   \n",
       "3     2000  0.100983  2265.027269  0.003319              12140.526480   \n",
       "4     2000  0.123296  2145.405225  0.002071              14890.561676   \n",
       "..     ...       ...          ...       ...                       ...   \n",
       "2   199000  0.133113  2065.146345  0.001000              17800.076455   \n",
       "3   199000  0.100007  2065.009641  0.001000              17672.929081   \n",
       "4   199000  0.105873  2065.077081  0.001000              17700.072498   \n",
       "5   199000  0.151902  2065.064505  0.001000              17850.027736   \n",
       "6   199000  0.118191  2065.003773  0.001000              17750.040244   \n",
       "\n",
       "    Distance to threshold 2035  \n",
       "0                     0.113453  \n",
       "1                     0.104972  \n",
       "2                     0.100266  \n",
       "3                     0.099245  \n",
       "4                     0.101738  \n",
       "..                         ...  \n",
       "2                     0.102639  \n",
       "3                     0.098822  \n",
       "4                     0.099499  \n",
       "5                     0.104805  \n",
       "6                     0.100918  \n",
       "\n",
       "[1386 rows x 6 columns]"
      ]
     },
     "execution_count": 36,
     "metadata": {},
     "output_type": "execute_result"
    }
   ],
   "source": [
    "import pandas as pd\n",
    "\n",
    "archives = []\n",
    "for i in range(2, 200):\n",
    "    archive = pd.read_csv(f'./results/NORDHAUS/SUFFICIENTARIAN/archive_{i}.csv')\n",
    "    nfe_column = [i*1000 for _ in range(archive.shape[0])]\n",
    "    archive.loc[:, 'Unnamed: 0'] = nfe_column\n",
    "    archive.rename(columns={'Unnamed: 0': 'nfe'}, inplace=True)\n",
    "    archives.append(archive.iloc[:, :6])\n",
    "\n",
    "archives = pd.concat(archives)\n",
    "# archives = archives.iloc[:, :6]\n",
    "archives"
   ]
  },
  {
   "cell_type": "markdown",
   "metadata": {
    "pycharm": {
     "name": "#%% md\n"
    }
   },
   "source": [
    "## Hypervolume for the reference set"
   ]
  },
  {
   "cell_type": "code",
   "execution_count": 37,
   "metadata": {
    "collapsed": false,
    "jupyter": {
     "outputs_hidden": false
    },
    "pycharm": {
     "name": "#%%\n"
    }
   },
   "outputs": [
    {
     "data": {
      "text/plain": [
       "<platypus.indicators.Hypervolume at 0x7faad15b5460>"
      ]
     },
     "execution_count": 37,
     "metadata": {},
     "output_type": "execute_result"
    }
   ],
   "source": [
    "from platypus import Hypervolume\n",
    "\n",
    "hv = Hypervolume(reference_set=ref_set)\n",
    "hv\n"
   ]
  },
  {
   "cell_type": "code",
   "execution_count": 38,
   "metadata": {},
   "outputs": [
    {
     "data": {
      "text/plain": [
       "0.12347652261979772"
      ]
     },
     "execution_count": 38,
     "metadata": {},
     "output_type": "execute_result"
    }
   ],
   "source": [
    "hv.calculate(ref_set)"
   ]
  },
  {
   "cell_type": "markdown",
   "metadata": {},
   "source": [
    "## Prepare archives as a dictionary"
   ]
  },
  {
   "cell_type": "code",
   "execution_count": 39,
   "metadata": {
    "collapsed": false,
    "jupyter": {
     "outputs_hidden": false
    },
    "pycharm": {
     "name": "#%%\n"
    }
   },
   "outputs": [],
   "source": [
    "archives_dict = {}\n",
    "for nfe, generation in archives.groupby(\"nfe\"):\n",
    "    archive = []\n",
    "    for i, row in generation.iloc[:, 4::].iterrows():\n",
    "        solution = Solution(problem)\n",
    "        solution.objectives = row\n",
    "        archive.append(solution)\n",
    "    archives_dict[nfe] = archive"
   ]
  },
  {
   "cell_type": "code",
   "execution_count": 40,
   "metadata": {},
   "outputs": [
    {
     "data": {
      "text/plain": [
       "[Solution[None,None,None|17920.528174882405,0.1132896664572054|0.0],\n",
       " Solution[None,None,None|17812.790394185315,0.10339284343357|0.0],\n",
       " Solution[None,None,None|17850.25733893533,0.1055605229164187|0.0],\n",
       " Solution[None,None,None|16486.67099420603,0.0988769405308782|0.0],\n",
       " Solution[None,None,None|17597.905941668483,0.0989056433269439|0.0],\n",
       " Solution[None,None,None|17764.856671067588,0.101511254865062|0.0],\n",
       " Solution[None,None,None|17701.716131168592,0.0995836096340403|0.0],\n",
       " Solution[None,None,None|17655.38155837622,0.0989543925556533|0.0]]"
      ]
     },
     "execution_count": 40,
     "metadata": {},
     "output_type": "execute_result"
    }
   ],
   "source": [
    "archives_dict[3000]"
   ]
  },
  {
   "cell_type": "markdown",
   "metadata": {
    "pycharm": {
     "name": "#%% md\n"
    }
   },
   "source": [
    "## Compute Hypervolume values"
   ]
  },
  {
   "cell_type": "code",
   "execution_count": 41,
   "metadata": {
    "collapsed": false,
    "jupyter": {
     "outputs_hidden": false
    },
    "pycharm": {
     "name": "#%%\n"
    }
   },
   "outputs": [],
   "source": [
    "nfes = []\n",
    "hvs = []\n",
    "for nfe, archive in archives_dict.items():\n",
    "    nfes.append(nfe)\n",
    "    hvs.append(hv.calculate(archive))"
   ]
  },
  {
   "cell_type": "markdown",
   "metadata": {
    "pycharm": {
     "name": "#%% md\n"
    }
   },
   "source": [
    "## Plot"
   ]
  },
  {
   "cell_type": "code",
   "execution_count": 42,
   "metadata": {
    "collapsed": false,
    "jupyter": {
     "outputs_hidden": false
    },
    "pycharm": {
     "name": "#%%\n"
    }
   },
   "outputs": [
    {
     "data": {
      "image/png": "[encoded data removed]",
      "text/plain": [
       "<Figure size 864x576 with 1 Axes>"
      ]
     },
     "metadata": {},
     "output_type": "display_data"
    }
   ],
   "source": [
    "import matplotlib.pyplot as plt\n",
    "import seaborn as sns\n",
    "\n",
    "sns.set_style(\"white\")\n",
    "\n",
    "fig, ax = plt.subplots()\n",
    "\n",
    "ax.plot(nfes, hvs)\n",
    "ax.set_xlabel('nfe')\n",
    "ax.set_ylabel('hypervolume')\n",
    "\n",
    "sns.despine()\n",
    "\n",
    "plt.show()"
   ]
  },
  {
   "cell_type": "code",
   "execution_count": 10,
   "metadata": {
    "collapsed": false,
    "jupyter": {
     "outputs_hidden": false
    },
    "pycharm": {
     "name": "#%%\n"
    }
   },
   "outputs": [],
   "source": []
  }
 ],
 "metadata": {
  "kernelspec": {
   "display_name": "Python 3 (ipykernel)",
   "language": "python",
   "name": "python3"
  },
  "language_info": {
   "codemirror_mode": {
    "name": "ipython",
    "version": 3
   },
   "file_extension": ".py",
   "mimetype": "text/x-python",
   "name": "python",
   "nbconvert_exporter": "python",
   "pygments_lexer": "ipython3",
   "version": "3.9.7"
  }
 },
 "nbformat": 4,
 "nbformat_minor": 4
}
