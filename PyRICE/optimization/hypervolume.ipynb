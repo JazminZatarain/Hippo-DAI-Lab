{
 "cells": [
  {
   "cell_type": "markdown",
   "metadata": {
    "pycharm": {
     "name": "#%% md\n"
    }
   },
   "source": [
    "# Notebook for computing Hypervolume\n",
    "\n",
    "This is an example notebook to compute the Hypervolume for problem formulation: Nordhaus + Sufficientarian."
   ]
  },
  {
   "cell_type": "markdown",
   "metadata": {
    "pycharm": {
     "name": "#%% md\n"
    }
   },
   "source": [
    "## Define the Problem"
   ]
  },
  {
   "cell_type": "code",
   "execution_count": 1,
   "outputs": [],
   "source": [
    "from platypus import Solution, Problem\n",
    "\n",
    "# n_objs = 7\n",
    "n_objs = 2\n",
    "\n",
    "n_decision_vars = 3\n",
    "\n",
    "problem = Problem(n_decision_vars, n_objs)\n",
    "\n",
    "# matters for hypervolume\n",
    "problem.directions[0] = Problem.MAXIMIZE  # Total aggregated utility\n",
    "problem.directions[1] = Problem.MINIMIZE  # Distance to threshold 2035\n",
    "# problem.directions[2] = Problem.MINIMIZE  # Distance to threshold 2055\n",
    "# problem.directions[3] = Problem.MINIMIZE  # Distance to threshold 2075\n",
    "# problem.directions[4] = Problem.MINIMIZE  # Population under threshold 2035\n",
    "# problem.directions[5] = Problem.MINIMIZE  # Population under threshold 2055\n",
    "# problem.directions[6] = Problem.MINIMIZE  # Population under threshold 2075\n"
   ],
   "metadata": {
    "collapsed": false,
    "pycharm": {
     "name": "#%%\n"
    }
   }
  },
  {
   "cell_type": "markdown",
   "source": [
    "## Create a Reference Set"
   ],
   "metadata": {
    "collapsed": false
   }
  },
  {
   "cell_type": "code",
   "execution_count": 2,
   "outputs": [],
   "source": [
    "import pandas as pd\n",
    "\n",
    "data = pd.read_csv('./results/NORDHAUS/SUFFICIENTARIAN/archive_199.csv', index_col=0).iloc[:, :5]\n",
    "\n",
    "ref_set = []\n",
    "for i, row in data.iterrows():\n",
    "    solution = Solution(problem)\n",
    "    solution.objectives = row.values[n_decision_vars::]\n",
    "    ref_set.append(solution)\n",
    "\n",
    "solution = Solution(problem)\n",
    "solution.objectives[:] = 0\n",
    "ref_set.append(solution)"
   ],
   "metadata": {
    "collapsed": false,
    "pycharm": {
     "name": "#%%\n"
    }
   }
  },
  {
   "cell_type": "code",
   "execution_count": 3,
   "outputs": [
    {
     "data": {
      "text/plain": "         sr          miu  irstp  Total Aggregated Utility  \\\n0  0.221163  2071.980067  0.001              17950.011497   \n1  0.177332  2067.927456  0.001              17900.002784   \n2  0.133113  2065.146345  0.001              17800.076455   \n3  0.100007  2065.009641  0.001              17672.929081   \n4  0.105873  2065.077081  0.001              17700.072498   \n5  0.151902  2065.064505  0.001              17850.027736   \n6  0.118191  2065.003773  0.001              17750.040244   \n\n   Distance to threshold 2035  \n0                    0.112855  \n1                    0.107758  \n2                    0.102639  \n3                    0.098822  \n4                    0.099499  \n5                    0.104805  \n6                    0.100918  ",
      "text/html": "<div>\n<style scoped>\n    .dataframe tbody tr th:only-of-type {\n        vertical-align: middle;\n    }\n\n    .dataframe tbody tr th {\n        vertical-align: top;\n    }\n\n    .dataframe thead th {\n        text-align: right;\n    }\n</style>\n<table border=\"1\" class=\"dataframe\">\n  <thead>\n    <tr style=\"text-align: right;\">\n      <th></th>\n      <th>sr</th>\n      <th>miu</th>\n      <th>irstp</th>\n      <th>Total Aggregated Utility</th>\n      <th>Distance to threshold 2035</th>\n    </tr>\n  </thead>\n  <tbody>\n    <tr>\n      <th>0</th>\n      <td>0.221163</td>\n      <td>2071.980067</td>\n      <td>0.001</td>\n      <td>17950.011497</td>\n      <td>0.112855</td>\n    </tr>\n    <tr>\n      <th>1</th>\n      <td>0.177332</td>\n      <td>2067.927456</td>\n      <td>0.001</td>\n      <td>17900.002784</td>\n      <td>0.107758</td>\n    </tr>\n    <tr>\n      <th>2</th>\n      <td>0.133113</td>\n      <td>2065.146345</td>\n      <td>0.001</td>\n      <td>17800.076455</td>\n      <td>0.102639</td>\n    </tr>\n    <tr>\n      <th>3</th>\n      <td>0.100007</td>\n      <td>2065.009641</td>\n      <td>0.001</td>\n      <td>17672.929081</td>\n      <td>0.098822</td>\n    </tr>\n    <tr>\n      <th>4</th>\n      <td>0.105873</td>\n      <td>2065.077081</td>\n      <td>0.001</td>\n      <td>17700.072498</td>\n      <td>0.099499</td>\n    </tr>\n    <tr>\n      <th>5</th>\n      <td>0.151902</td>\n      <td>2065.064505</td>\n      <td>0.001</td>\n      <td>17850.027736</td>\n      <td>0.104805</td>\n    </tr>\n    <tr>\n      <th>6</th>\n      <td>0.118191</td>\n      <td>2065.003773</td>\n      <td>0.001</td>\n      <td>17750.040244</td>\n      <td>0.100918</td>\n    </tr>\n  </tbody>\n</table>\n</div>"
     },
     "execution_count": 3,
     "metadata": {},
     "output_type": "execute_result"
    }
   ],
   "source": [
    "data"
   ],
   "metadata": {
    "collapsed": false,
    "pycharm": {
     "name": "#%%\n"
    }
   }
  },
  {
   "cell_type": "code",
   "execution_count": 4,
   "outputs": [
    {
     "data": {
      "text/plain": "Total Aggregated Utility      17672.929081\nDistance to threshold 2035        0.098822\ndtype: float64"
     },
     "execution_count": 4,
     "metadata": {},
     "output_type": "execute_result"
    }
   ],
   "source": [
    "data.iloc[:, n_decision_vars::].min()"
   ],
   "metadata": {
    "collapsed": false,
    "pycharm": {
     "name": "#%%\n"
    }
   }
  },
  {
   "cell_type": "code",
   "execution_count": 5,
   "outputs": [
    {
     "data": {
      "text/plain": "Total Aggregated Utility      17950.011497\nDistance to threshold 2035        0.112855\ndtype: float64"
     },
     "execution_count": 5,
     "metadata": {},
     "output_type": "execute_result"
    }
   ],
   "source": [
    "data.iloc[:, n_decision_vars::].max()"
   ],
   "metadata": {
    "collapsed": false,
    "pycharm": {
     "name": "#%%\n"
    }
   }
  },
  {
   "cell_type": "markdown",
   "source": [
    "## Load all archives and merge them"
   ],
   "metadata": {
    "collapsed": false
   }
  },
  {
   "cell_type": "code",
   "execution_count": 6,
   "outputs": [
    {
     "data": {
      "text/plain": "       nfe        sr          miu     irstp  Total Aggregated Utility  \\\n0     2000  0.224019  2285.041456  0.001234              17213.162297   \n1     2000  0.151142  2171.439718  0.001604              16130.187858   \n2     2000  0.109935  2238.029382  0.002411              14039.136180   \n3     2000  0.100983  2265.027269  0.003319              12140.526480   \n4     2000  0.123296  2145.405225  0.002071              14890.561676   \n..     ...       ...          ...       ...                       ...   \n2   199000  0.133113  2065.146345  0.001000              17800.076455   \n3   199000  0.100007  2065.009641  0.001000              17672.929081   \n4   199000  0.105873  2065.077081  0.001000              17700.072498   \n5   199000  0.151902  2065.064505  0.001000              17850.027736   \n6   199000  0.118191  2065.003773  0.001000              17750.040244   \n\n    Distance to threshold 2035  \n0                     0.113453  \n1                     0.104972  \n2                     0.100266  \n3                     0.099245  \n4                     0.101738  \n..                         ...  \n2                     0.102639  \n3                     0.098822  \n4                     0.099499  \n5                     0.104805  \n6                     0.100918  \n\n[1386 rows x 6 columns]",
      "text/html": "<div>\n<style scoped>\n    .dataframe tbody tr th:only-of-type {\n        vertical-align: middle;\n    }\n\n    .dataframe tbody tr th {\n        vertical-align: top;\n    }\n\n    .dataframe thead th {\n        text-align: right;\n    }\n</style>\n<table border=\"1\" class=\"dataframe\">\n  <thead>\n    <tr style=\"text-align: right;\">\n      <th></th>\n      <th>nfe</th>\n      <th>sr</th>\n      <th>miu</th>\n      <th>irstp</th>\n      <th>Total Aggregated Utility</th>\n      <th>Distance to threshold 2035</th>\n    </tr>\n  </thead>\n  <tbody>\n    <tr>\n      <th>0</th>\n      <td>2000</td>\n      <td>0.224019</td>\n      <td>2285.041456</td>\n      <td>0.001234</td>\n      <td>17213.162297</td>\n      <td>0.113453</td>\n    </tr>\n    <tr>\n      <th>1</th>\n      <td>2000</td>\n      <td>0.151142</td>\n      <td>2171.439718</td>\n      <td>0.001604</td>\n      <td>16130.187858</td>\n      <td>0.104972</td>\n    </tr>\n    <tr>\n      <th>2</th>\n      <td>2000</td>\n      <td>0.109935</td>\n      <td>2238.029382</td>\n      <td>0.002411</td>\n      <td>14039.136180</td>\n      <td>0.100266</td>\n    </tr>\n    <tr>\n      <th>3</th>\n      <td>2000</td>\n      <td>0.100983</td>\n      <td>2265.027269</td>\n      <td>0.003319</td>\n      <td>12140.526480</td>\n      <td>0.099245</td>\n    </tr>\n    <tr>\n      <th>4</th>\n      <td>2000</td>\n      <td>0.123296</td>\n      <td>2145.405225</td>\n      <td>0.002071</td>\n      <td>14890.561676</td>\n      <td>0.101738</td>\n    </tr>\n    <tr>\n      <th>...</th>\n      <td>...</td>\n      <td>...</td>\n      <td>...</td>\n      <td>...</td>\n      <td>...</td>\n      <td>...</td>\n    </tr>\n    <tr>\n      <th>2</th>\n      <td>199000</td>\n      <td>0.133113</td>\n      <td>2065.146345</td>\n      <td>0.001000</td>\n      <td>17800.076455</td>\n      <td>0.102639</td>\n    </tr>\n    <tr>\n      <th>3</th>\n      <td>199000</td>\n      <td>0.100007</td>\n      <td>2065.009641</td>\n      <td>0.001000</td>\n      <td>17672.929081</td>\n      <td>0.098822</td>\n    </tr>\n    <tr>\n      <th>4</th>\n      <td>199000</td>\n      <td>0.105873</td>\n      <td>2065.077081</td>\n      <td>0.001000</td>\n      <td>17700.072498</td>\n      <td>0.099499</td>\n    </tr>\n    <tr>\n      <th>5</th>\n      <td>199000</td>\n      <td>0.151902</td>\n      <td>2065.064505</td>\n      <td>0.001000</td>\n      <td>17850.027736</td>\n      <td>0.104805</td>\n    </tr>\n    <tr>\n      <th>6</th>\n      <td>199000</td>\n      <td>0.118191</td>\n      <td>2065.003773</td>\n      <td>0.001000</td>\n      <td>17750.040244</td>\n      <td>0.100918</td>\n    </tr>\n  </tbody>\n</table>\n<p>1386 rows × 6 columns</p>\n</div>"
     },
     "execution_count": 6,
     "metadata": {},
     "output_type": "execute_result"
    }
   ],
   "source": [
    "import pandas as pd\n",
    "\n",
    "archives = []\n",
    "for i in range(2, 200):\n",
    "    archive = pd.read_csv(f'./results/NORDHAUS/SUFFICIENTARIAN/archive_{i}.csv')\n",
    "    nfe_column = [i*1000 for _ in range(archive.shape[0])]\n",
    "    archive.loc[:, 'Unnamed: 0'] = nfe_column\n",
    "    archive.rename(columns={'Unnamed: 0': 'nfe'}, inplace=True)\n",
    "    archives.append(archive)\n",
    "\n",
    "archives = pd.concat(archives)\n",
    "archives = archives.iloc[:, :6]\n",
    "archives"
   ],
   "metadata": {
    "collapsed": false,
    "pycharm": {
     "name": "#%%\n"
    }
   }
  },
  {
   "cell_type": "markdown",
   "source": [
    "## Hypervolume for the reference set"
   ],
   "metadata": {
    "collapsed": false,
    "pycharm": {
     "name": "#%% md\n"
    }
   }
  },
  {
   "cell_type": "code",
   "execution_count": 7,
   "outputs": [
    {
     "data": {
      "text/plain": "<platypus.indicators.Hypervolume at 0x7fc072f61b20>"
     },
     "execution_count": 7,
     "metadata": {},
     "output_type": "execute_result"
    }
   ],
   "source": [
    "from platypus import Hypervolume\n",
    "\n",
    "hv = Hypervolume(reference_set=ref_set)\n",
    "hv\n"
   ],
   "metadata": {
    "collapsed": false,
    "pycharm": {
     "name": "#%%\n"
    }
   }
  },
  {
   "cell_type": "markdown",
   "source": [
    "## Prepare archives as a dictionary"
   ],
   "metadata": {
    "collapsed": false
   }
  },
  {
   "cell_type": "code",
   "execution_count": 8,
   "outputs": [],
   "source": [
    "archives_dict = {}\n",
    "for nfe, generation in archives.groupby(\"nfe\"):\n",
    "    archive = []\n",
    "    for i, row in generation.iloc[:, 4::].iterrows():\n",
    "        solution = Solution(problem)\n",
    "        solution.objectives = row\n",
    "        archive.append(solution)\n",
    "    archives_dict[nfe] = archive"
   ],
   "metadata": {
    "collapsed": false,
    "pycharm": {
     "name": "#%%\n"
    }
   }
  },
  {
   "cell_type": "markdown",
   "source": [
    "## Compute Hypervolume values"
   ],
   "metadata": {
    "collapsed": false,
    "pycharm": {
     "name": "#%% md\n"
    }
   }
  },
  {
   "cell_type": "code",
   "execution_count": 9,
   "outputs": [],
   "source": [
    "nfes = []\n",
    "hvs = []\n",
    "for nfe, archive in archives_dict.items():\n",
    "    nfes.append(nfe)\n",
    "    hvs.append(hv.calculate(archive))"
   ],
   "metadata": {
    "collapsed": false,
    "pycharm": {
     "name": "#%%\n"
    }
   }
  },
  {
   "cell_type": "markdown",
   "metadata": {
    "pycharm": {
     "name": "#%% md\n"
    }
   },
   "source": [
    "## Plot"
   ]
  },
  {
   "cell_type": "code",
   "execution_count": 10,
   "metadata": {
    "collapsed": false,
    "jupyter": {
     "outputs_hidden": false
    },
    "pycharm": {
     "name": "#%%\n"
    }
   },
   "outputs": [
    {
     "data": {
      "text/plain": "<Figure size 432x288 with 1 Axes>",
      "image/png": "[encoded data removed]"
     },
     "metadata": {},
     "output_type": "display_data"
    }
   ],
   "source": [
    "import matplotlib.pyplot as plt\n",
    "import seaborn as sns\n",
    "\n",
    "sns.set_style(\"white\")\n",
    "\n",
    "fig, ax = plt.subplots()\n",
    "\n",
    "ax.plot(nfes, hvs)\n",
    "ax.set_xlabel('nfe')\n",
    "ax.set_ylabel('hypervolume')\n",
    "\n",
    "sns.despine()\n",
    "\n",
    "plt.show()"
   ]
  },
  {
   "cell_type": "code",
   "execution_count": 10,
   "outputs": [],
   "source": [],
   "metadata": {
    "collapsed": false,
    "pycharm": {
     "name": "#%%\n"
    }
   }
  }
 ],
 "metadata": {
  "kernelspec": {
   "name": "pycharm-2517ad8d",
   "language": "python",
   "display_name": "PyCharm (md_final)"
  },
  "language_info": {
   "codemirror_mode": {
    "name": "ipython",
    "version": 3
   },
   "file_extension": ".py",
   "mimetype": "text/x-python",
   "name": "python",
   "nbconvert_exporter": "python",
   "pygments_lexer": "ipython3",
   "version": "3.9.7"
  }
 },
 "nbformat": 4,
 "nbformat_minor": 4
}