{
 "cells": [
  {
   "cell_type": "markdown",
   "metadata": {
    "collapsed": true,
    "pycharm": {
     "name": "#%% md\n"
    }
   },
   "source": [
    "# Notebook for computing Hypervolume"
   ]
  },
  {
   "cell_type": "markdown",
   "source": [
    "## Example for problem formulation: Nordhaus + Sufficientarian"
   ],
   "metadata": {
    "collapsed": false,
    "pycharm": {
     "name": "#%% md\n"
    }
   }
  },
  {
   "cell_type": "code",
   "execution_count": 1,
   "outputs": [
    {
     "data": {
      "text/plain": "   Unnamed: 0        sr          miu     irstp  Total Aggregated Utility  \\\n0           0  0.224019  2285.041456  0.001234              17213.162297   \n1           1  0.151142  2171.439718  0.001604              16130.187858   \n2           2  0.109935  2238.029382  0.002411              14039.136180   \n3           3  0.100983  2265.027269  0.003319              12140.526480   \n4           4  0.123296  2145.405225  0.002071              14890.561676   \n..        ...       ...          ...       ...                       ...   \n2           2  0.133113  2065.146345  0.001000              17800.076455   \n3           3  0.100007  2065.009641  0.001000              17672.929081   \n4           4  0.105873  2065.077081  0.001000              17700.072498   \n5           5  0.151902  2065.064505  0.001000              17850.027736   \n6           6  0.118191  2065.003773  0.001000              17750.040244   \n\n    Distance to threshold 2035  Distance to threshold 2055  \\\n0                     0.113453                         0.0   \n1                     0.104972                         0.0   \n2                     0.100266                         0.0   \n3                     0.099245                         0.0   \n4                     0.101738                         0.0   \n..                         ...                         ...   \n2                     0.102639                         0.0   \n3                     0.098822                         0.0   \n4                     0.099499                         0.0   \n5                     0.104805                         0.0   \n6                     0.100918                         0.0   \n\n    Distance to threshold 2075  Population under threshold 2035  \\\n0                          0.0                       265.114464   \n1                          0.0                       265.114464   \n2                          0.0                       265.114464   \n3                          0.0                       265.114464   \n4                          0.0                       265.114464   \n..                         ...                              ...   \n2                          0.0                       265.114464   \n3                          0.0                       265.114464   \n4                          0.0                       265.114464   \n5                          0.0                       265.114464   \n6                          0.0                       265.114464   \n\n    Population under threshold 2055  Population under threshold 2075  \n0                               0.0                              0.0  \n1                               0.0                              0.0  \n2                               0.0                              0.0  \n3                               0.0                              0.0  \n4                               0.0                              0.0  \n..                              ...                              ...  \n2                               0.0                              0.0  \n3                               0.0                              0.0  \n4                               0.0                              0.0  \n5                               0.0                              0.0  \n6                               0.0                              0.0  \n\n[1386 rows x 11 columns]",
      "text/html": "<div>\n<style scoped>\n    .dataframe tbody tr th:only-of-type {\n        vertical-align: middle;\n    }\n\n    .dataframe tbody tr th {\n        vertical-align: top;\n    }\n\n    .dataframe thead th {\n        text-align: right;\n    }\n</style>\n<table border=\"1\" class=\"dataframe\">\n  <thead>\n    <tr style=\"text-align: right;\">\n      <th></th>\n      <th>Unnamed: 0</th>\n      <th>sr</th>\n      <th>miu</th>\n      <th>irstp</th>\n      <th>Total Aggregated Utility</th>\n      <th>Distance to threshold 2035</th>\n      <th>Distance to threshold 2055</th>\n      <th>Distance to threshold 2075</th>\n      <th>Population under threshold 2035</th>\n      <th>Population under threshold 2055</th>\n      <th>Population under threshold 2075</th>\n    </tr>\n  </thead>\n  <tbody>\n    <tr>\n      <th>0</th>\n      <td>0</td>\n      <td>0.224019</td>\n      <td>2285.041456</td>\n      <td>0.001234</td>\n      <td>17213.162297</td>\n      <td>0.113453</td>\n      <td>0.0</td>\n      <td>0.0</td>\n      <td>265.114464</td>\n      <td>0.0</td>\n      <td>0.0</td>\n    </tr>\n    <tr>\n      <th>1</th>\n      <td>1</td>\n      <td>0.151142</td>\n      <td>2171.439718</td>\n      <td>0.001604</td>\n      <td>16130.187858</td>\n      <td>0.104972</td>\n      <td>0.0</td>\n      <td>0.0</td>\n      <td>265.114464</td>\n      <td>0.0</td>\n      <td>0.0</td>\n    </tr>\n    <tr>\n      <th>2</th>\n      <td>2</td>\n      <td>0.109935</td>\n      <td>2238.029382</td>\n      <td>0.002411</td>\n      <td>14039.136180</td>\n      <td>0.100266</td>\n      <td>0.0</td>\n      <td>0.0</td>\n      <td>265.114464</td>\n      <td>0.0</td>\n      <td>0.0</td>\n    </tr>\n    <tr>\n      <th>3</th>\n      <td>3</td>\n      <td>0.100983</td>\n      <td>2265.027269</td>\n      <td>0.003319</td>\n      <td>12140.526480</td>\n      <td>0.099245</td>\n      <td>0.0</td>\n      <td>0.0</td>\n      <td>265.114464</td>\n      <td>0.0</td>\n      <td>0.0</td>\n    </tr>\n    <tr>\n      <th>4</th>\n      <td>4</td>\n      <td>0.123296</td>\n      <td>2145.405225</td>\n      <td>0.002071</td>\n      <td>14890.561676</td>\n      <td>0.101738</td>\n      <td>0.0</td>\n      <td>0.0</td>\n      <td>265.114464</td>\n      <td>0.0</td>\n      <td>0.0</td>\n    </tr>\n    <tr>\n      <th>...</th>\n      <td>...</td>\n      <td>...</td>\n      <td>...</td>\n      <td>...</td>\n      <td>...</td>\n      <td>...</td>\n      <td>...</td>\n      <td>...</td>\n      <td>...</td>\n      <td>...</td>\n      <td>...</td>\n    </tr>\n    <tr>\n      <th>2</th>\n      <td>2</td>\n      <td>0.133113</td>\n      <td>2065.146345</td>\n      <td>0.001000</td>\n      <td>17800.076455</td>\n      <td>0.102639</td>\n      <td>0.0</td>\n      <td>0.0</td>\n      <td>265.114464</td>\n      <td>0.0</td>\n      <td>0.0</td>\n    </tr>\n    <tr>\n      <th>3</th>\n      <td>3</td>\n      <td>0.100007</td>\n      <td>2065.009641</td>\n      <td>0.001000</td>\n      <td>17672.929081</td>\n      <td>0.098822</td>\n      <td>0.0</td>\n      <td>0.0</td>\n      <td>265.114464</td>\n      <td>0.0</td>\n      <td>0.0</td>\n    </tr>\n    <tr>\n      <th>4</th>\n      <td>4</td>\n      <td>0.105873</td>\n      <td>2065.077081</td>\n      <td>0.001000</td>\n      <td>17700.072498</td>\n      <td>0.099499</td>\n      <td>0.0</td>\n      <td>0.0</td>\n      <td>265.114464</td>\n      <td>0.0</td>\n      <td>0.0</td>\n    </tr>\n    <tr>\n      <th>5</th>\n      <td>5</td>\n      <td>0.151902</td>\n      <td>2065.064505</td>\n      <td>0.001000</td>\n      <td>17850.027736</td>\n      <td>0.104805</td>\n      <td>0.0</td>\n      <td>0.0</td>\n      <td>265.114464</td>\n      <td>0.0</td>\n      <td>0.0</td>\n    </tr>\n    <tr>\n      <th>6</th>\n      <td>6</td>\n      <td>0.118191</td>\n      <td>2065.003773</td>\n      <td>0.001000</td>\n      <td>17750.040244</td>\n      <td>0.100918</td>\n      <td>0.0</td>\n      <td>0.0</td>\n      <td>265.114464</td>\n      <td>0.0</td>\n      <td>0.0</td>\n    </tr>\n  </tbody>\n</table>\n<p>1386 rows × 11 columns</p>\n</div>"
     },
     "execution_count": 1,
     "metadata": {},
     "output_type": "execute_result"
    }
   ],
   "source": [
    "import pandas as pd\n",
    "\n",
    "archives = []\n",
    "for i in range(1, 200):\n",
    "    archive = pd.read_csv(f'./results/NORDHAUS/SUFFICIENTARIAN/archive_{i}.csv')\n",
    "    archives.append(archive)\n",
    "\n",
    "big_archive = pd.concat(archives)\n",
    "big_archive\n"
   ],
   "metadata": {
    "collapsed": false,
    "pycharm": {
     "name": "#%%\n"
    }
   }
  },
  {
   "cell_type": "markdown",
   "source": [
    "## Collection of solutions for each generation"
   ],
   "metadata": {
    "collapsed": false,
    "pycharm": {
     "name": "#%% md\n"
    }
   }
  },
  {
   "cell_type": "code",
   "execution_count": 2,
   "outputs": [],
   "source": [
    "from platypus import Solution, Problem\n",
    "\n",
    "n_rbfs = 4  # What's this?\n",
    "n_objs = 7\n",
    "n_vars = n_rbfs * 8\n",
    "\n",
    "problem = Problem(n_vars, n_objs)\n",
    "\n",
    "# matters for hypervolume\n",
    "problem.directions[0] = Problem.MAXIMIZE  # Total aggregated utility\n",
    "problem.directions[1] = Problem.MINIMIZE  # Distance to threshold 2035\n",
    "problem.directions[2] = Problem.MINIMIZE  # Distance to threshold 2055\n",
    "problem.directions[3] = Problem.MINIMIZE  # Distance to threshold 2075\n",
    "problem.directions[4] = Problem.MAXIMIZE  # Population under threshold 2035\n",
    "problem.directions[5] = Problem.MINIMIZE  # Population under threshold 2055\n",
    "problem.directions[6] = Problem.MINIMIZE  # Population under threshold 2075"
   ],
   "metadata": {
    "collapsed": false,
    "pycharm": {
     "name": "#%%\n"
    }
   }
  },
  {
   "cell_type": "code",
   "execution_count": 3,
   "outputs": [],
   "source": [
    "archives = {}\n",
    "for nfe, generation in big_archive.groupby(\"Unnamed: 0\"):\n",
    "    # we slice from 2, getting rid of the first two columns\n",
    "    # which contain the NFE and ID of each solution\n",
    "    archive = []\n",
    "    for i, row in generation.iloc[:, 1::].iterrows():\n",
    "        solution = Solution(problem)\n",
    "        solution.objectives = row\n",
    "        archive.append(solution)\n",
    "    archives[nfe] = archive\n"
   ],
   "metadata": {
    "collapsed": false,
    "pycharm": {
     "name": "#%%\n"
    }
   }
  },
  {
   "cell_type": "markdown",
   "source": [
    "## Reference Set"
   ],
   "metadata": {
    "collapsed": false,
    "pycharm": {
     "name": "#%% md\n"
    }
   }
  },
  {
   "cell_type": "code",
   "execution_count": 4,
   "outputs": [],
   "source": [
    "data = pd.read_csv('./results/NORDHAUS/SUFFICIENTARIAN/archive_199.csv')\n",
    "\n",
    "ref_set = []\n",
    "for i, row in data.iterrows():\n",
    "    solution = Solution(problem)\n",
    "    solution.objectives = row\n",
    "    ref_set.append(solution)"
   ],
   "metadata": {
    "collapsed": false,
    "pycharm": {
     "name": "#%%\n"
    }
   }
  },
  {
   "cell_type": "markdown",
   "source": [
    "## Compute Hypervolume"
   ],
   "metadata": {
    "collapsed": false,
    "pycharm": {
     "name": "#%% md\n"
    }
   }
  },
  {
   "cell_type": "code",
   "execution_count": 5,
   "outputs": [
    {
     "ename": "PlatypusError",
     "evalue": "objective with empty range",
     "output_type": "error",
     "traceback": [
      "\u001B[0;31m---------------------------------------------------------------------------\u001B[0m",
      "\u001B[0;31mPlatypusError\u001B[0m                             Traceback (most recent call last)",
      "\u001B[0;32m<ipython-input-5-d907a75a20e4>\u001B[0m in \u001B[0;36m<module>\u001B[0;34m\u001B[0m\n\u001B[1;32m      1\u001B[0m \u001B[0;32mfrom\u001B[0m \u001B[0mplatypus\u001B[0m \u001B[0;32mimport\u001B[0m \u001B[0mHypervolume\u001B[0m\u001B[0;34m\u001B[0m\u001B[0;34m\u001B[0m\u001B[0m\n\u001B[1;32m      2\u001B[0m \u001B[0;34m\u001B[0m\u001B[0m\n\u001B[0;32m----> 3\u001B[0;31m \u001B[0mhv\u001B[0m \u001B[0;34m=\u001B[0m \u001B[0mHypervolume\u001B[0m\u001B[0;34m(\u001B[0m\u001B[0mreference_set\u001B[0m\u001B[0;34m=\u001B[0m\u001B[0mref_set\u001B[0m\u001B[0;34m)\u001B[0m\u001B[0;34m\u001B[0m\u001B[0;34m\u001B[0m\u001B[0m\n\u001B[0m\u001B[1;32m      4\u001B[0m \u001B[0;34m\u001B[0m\u001B[0m\n\u001B[1;32m      5\u001B[0m \u001B[0mnfes\u001B[0m \u001B[0;34m=\u001B[0m \u001B[0;34m[\u001B[0m\u001B[0;34m]\u001B[0m\u001B[0;34m\u001B[0m\u001B[0;34m\u001B[0m\u001B[0m\n",
      "\u001B[0;32m/Library/Frameworks/Python.framework/Versions/3.9/lib/python3.9/site-packages/platypus/indicators.py\u001B[0m in \u001B[0;36m__init__\u001B[0;34m(self, reference_set, minimum, maximum)\u001B[0m\n\u001B[1;32m    112\u001B[0m                 \u001B[0;32mraise\u001B[0m \u001B[0mValueError\u001B[0m\u001B[0;34m(\u001B[0m\u001B[0;34m\"minimum and maximum must not be specified if reference_set is defined\"\u001B[0m\u001B[0;34m)\u001B[0m\u001B[0;34m\u001B[0m\u001B[0;34m\u001B[0m\u001B[0m\n\u001B[1;32m    113\u001B[0m             \u001B[0mself\u001B[0m\u001B[0;34m.\u001B[0m\u001B[0mreference_set\u001B[0m \u001B[0;34m=\u001B[0m \u001B[0;34m[\u001B[0m\u001B[0ms\u001B[0m \u001B[0;32mfor\u001B[0m \u001B[0ms\u001B[0m \u001B[0;32min\u001B[0m \u001B[0mreference_set\u001B[0m \u001B[0;32mif\u001B[0m \u001B[0ms\u001B[0m\u001B[0;34m.\u001B[0m\u001B[0mconstraint_violation\u001B[0m\u001B[0;34m==\u001B[0m\u001B[0;36m0.0\u001B[0m\u001B[0;34m]\u001B[0m\u001B[0;34m\u001B[0m\u001B[0;34m\u001B[0m\u001B[0m\n\u001B[0;32m--> 114\u001B[0;31m             \u001B[0mself\u001B[0m\u001B[0;34m.\u001B[0m\u001B[0mminimum\u001B[0m\u001B[0;34m,\u001B[0m \u001B[0mself\u001B[0m\u001B[0;34m.\u001B[0m\u001B[0mmaximum\u001B[0m \u001B[0;34m=\u001B[0m \u001B[0mnormalize\u001B[0m\u001B[0;34m(\u001B[0m\u001B[0mreference_set\u001B[0m\u001B[0;34m)\u001B[0m\u001B[0;34m\u001B[0m\u001B[0;34m\u001B[0m\u001B[0m\n\u001B[0m\u001B[1;32m    115\u001B[0m         \u001B[0;32melse\u001B[0m\u001B[0;34m:\u001B[0m\u001B[0;34m\u001B[0m\u001B[0;34m\u001B[0m\u001B[0m\n\u001B[1;32m    116\u001B[0m             \u001B[0;32mif\u001B[0m \u001B[0mminimum\u001B[0m \u001B[0;32mis\u001B[0m \u001B[0;32mNone\u001B[0m \u001B[0;32mor\u001B[0m \u001B[0mmaximum\u001B[0m \u001B[0;32mis\u001B[0m \u001B[0;32mNone\u001B[0m\u001B[0;34m:\u001B[0m\u001B[0;34m\u001B[0m\u001B[0;34m\u001B[0m\u001B[0m\n",
      "\u001B[0;32m/Library/Frameworks/Python.framework/Versions/3.9/lib/python3.9/site-packages/platypus/core.py\u001B[0m in \u001B[0;36mnormalize\u001B[0;34m(solutions, minimum, maximum)\u001B[0m\n\u001B[1;32m   1238\u001B[0m \u001B[0;34m\u001B[0m\u001B[0m\n\u001B[1;32m   1239\u001B[0m     \u001B[0;32mif\u001B[0m \u001B[0many\u001B[0m\u001B[0;34m(\u001B[0m\u001B[0;34m[\u001B[0m\u001B[0mmaximum\u001B[0m\u001B[0;34m[\u001B[0m\u001B[0mi\u001B[0m\u001B[0;34m]\u001B[0m\u001B[0;34m-\u001B[0m\u001B[0mminimum\u001B[0m\u001B[0;34m[\u001B[0m\u001B[0mi\u001B[0m\u001B[0;34m]\u001B[0m \u001B[0;34m<\u001B[0m \u001B[0mEPSILON\u001B[0m \u001B[0;32mfor\u001B[0m \u001B[0mi\u001B[0m \u001B[0;32min\u001B[0m \u001B[0mrange\u001B[0m\u001B[0;34m(\u001B[0m\u001B[0mproblem\u001B[0m\u001B[0;34m.\u001B[0m\u001B[0mnobjs\u001B[0m\u001B[0;34m)\u001B[0m\u001B[0;34m]\u001B[0m\u001B[0;34m)\u001B[0m\u001B[0;34m:\u001B[0m\u001B[0;34m\u001B[0m\u001B[0;34m\u001B[0m\u001B[0m\n\u001B[0;32m-> 1240\u001B[0;31m         \u001B[0;32mraise\u001B[0m \u001B[0mPlatypusError\u001B[0m\u001B[0;34m(\u001B[0m\u001B[0;34m\"objective with empty range\"\u001B[0m\u001B[0;34m)\u001B[0m\u001B[0;34m\u001B[0m\u001B[0;34m\u001B[0m\u001B[0m\n\u001B[0m\u001B[1;32m   1241\u001B[0m \u001B[0;34m\u001B[0m\u001B[0m\n\u001B[1;32m   1242\u001B[0m     \u001B[0;32mfor\u001B[0m \u001B[0ms\u001B[0m \u001B[0;32min\u001B[0m \u001B[0mfeasible\u001B[0m\u001B[0;34m:\u001B[0m\u001B[0;34m\u001B[0m\u001B[0;34m\u001B[0m\u001B[0m\n",
      "\u001B[0;31mPlatypusError\u001B[0m: objective with empty range"
     ]
    }
   ],
   "source": [
    "from platypus import Hypervolume\n",
    "\n",
    "hv = Hypervolume(reference_set=ref_set)\n",
    "\n",
    "nfes = []\n",
    "hvs = []\n",
    "for nfe, archive in archives.items():\n",
    "    nfes.append(nfe)\n",
    "    hvs.append(hv.calculate(archive))\n"
   ],
   "metadata": {
    "collapsed": false,
    "pycharm": {
     "name": "#%%\n"
    }
   }
  },
  {
   "cell_type": "markdown",
   "source": [
    "## Plotting"
   ],
   "metadata": {
    "collapsed": false,
    "pycharm": {
     "name": "#%% md\n"
    }
   }
  },
  {
   "cell_type": "code",
   "execution_count": null,
   "outputs": [],
   "source": [
    "import matplotlib.pyplot as plt\n",
    "import seaborn as sns\n",
    "\n",
    "sns.set_style(\"white\")\n",
    "\n",
    "fig, ax = plt.subplots()\n",
    "\n",
    "ax.plot(nfes, hvs)\n",
    "ax.set_xlabel('nfe')\n",
    "ax.set_ylabel('hypervolume')\n",
    "\n",
    "sns.despine()\n",
    "\n",
    "plt.show()"
   ],
   "metadata": {
    "collapsed": false,
    "pycharm": {
     "name": "#%%\n"
    }
   }
  }
 ],
 "metadata": {
  "kernelspec": {
   "name": "pycharm-2517ad8d",
   "language": "python",
   "display_name": "PyCharm (md_final)"
  },
  "language_info": {
   "codemirror_mode": {
    "name": "ipython",
    "version": 2
   },
   "file_extension": ".py",
   "mimetype": "text/x-python",
   "name": "python",
   "nbconvert_exporter": "python",
   "pygments_lexer": "ipython2",
   "version": "2.7.6"
  }
 },
 "nbformat": 4,
 "nbformat_minor": 0
}