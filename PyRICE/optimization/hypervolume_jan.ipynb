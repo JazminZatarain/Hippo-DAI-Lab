{
 "cells": [
  {
   "cell_type": "markdown",
   "metadata": {
    "pycharm": {
     "name": "#%% md\n"
    }
   },
   "source": [
    "# Notebook for computing Hypervolume"
   ]
  },
  {
   "cell_type": "markdown",
   "metadata": {
    "pycharm": {
     "name": "#%% md\n"
    }
   },
   "source": [
    "## Example for problem formulation: Nordhaus + Sufficientarian"
   ]
  },
  {
   "cell_type": "markdown",
   "metadata": {
    "pycharm": {
     "name": "#%% md\n"
    }
   },
   "source": [
    "## Collection of solutions for each generation"
   ]
  },
  {
   "cell_type": "code",
   "execution_count": 4,
   "metadata": {
    "collapsed": false,
    "jupyter": {
     "outputs_hidden": false
    },
    "pycharm": {
     "name": "#%%\n"
    }
   },
   "outputs": [
    {
     "ename": "ModuleNotFoundError",
     "evalue": "No module named 'platypus'",
     "output_type": "error",
     "traceback": [
      "\u001B[0;31m---------------------------------------------------------------------------\u001B[0m",
      "\u001B[0;31mModuleNotFoundError\u001B[0m                       Traceback (most recent call last)",
      "\u001B[0;32m<ipython-input-4-25a505b00c61>\u001B[0m in \u001B[0;36m<module>\u001B[0;34m\u001B[0m\n\u001B[0;32m----> 1\u001B[0;31m \u001B[0;32mfrom\u001B[0m \u001B[0mplatypus\u001B[0m \u001B[0;32mimport\u001B[0m \u001B[0mSolution\u001B[0m\u001B[0;34m,\u001B[0m \u001B[0mProblem\u001B[0m\u001B[0;34m\u001B[0m\u001B[0;34m\u001B[0m\u001B[0m\n\u001B[0m\u001B[1;32m      2\u001B[0m \u001B[0;34m\u001B[0m\u001B[0m\n\u001B[1;32m      3\u001B[0m \u001B[0mn_objs\u001B[0m \u001B[0;34m=\u001B[0m \u001B[0;36m7\u001B[0m\u001B[0;34m\u001B[0m\u001B[0;34m\u001B[0m\u001B[0m\n\u001B[1;32m      4\u001B[0m \u001B[0mn_decision_vars\u001B[0m \u001B[0;34m=\u001B[0m \u001B[0;36m3\u001B[0m\u001B[0;34m\u001B[0m\u001B[0;34m\u001B[0m\u001B[0m\n\u001B[1;32m      5\u001B[0m \u001B[0;34m\u001B[0m\u001B[0m\n",
      "\u001B[0;31mModuleNotFoundError\u001B[0m: No module named 'platypus'"
     ]
    }
   ],
   "source": [
    "from platypus import Solution, Problem\n",
    "\n",
    "n_objs = 7\n",
    "n_decision_vars = 3\n",
    "\n",
    "problem = Problem(n_decision_vars, n_objs)\n",
    "\n",
    "# matters for hypervolume\n",
    "problem.directions[0] = Problem.MAXIMIZE  # Total aggregated utility\n",
    "problem.directions[1] = Problem.MINIMIZE  # Distance to threshold 2035\n",
    "problem.directions[2] = Problem.MINIMIZE  # Distance to threshold 2055\n",
    "problem.directions[3] = Problem.MINIMIZE  # Distance to threshold 2075\n",
    "problem.directions[4] = Problem.MAXIMIZE  # Population under threshold 2035\n",
    "problem.directions[5] = Problem.MINIMIZE  # Population under threshold 2055\n",
    "problem.directions[6] = Problem.MINIMIZE  # Population under threshold 2075"
   ]
  },
  {
   "cell_type": "markdown",
   "metadata": {
    "pycharm": {
     "name": "#%% md\n"
    }
   },
   "source": [
    "## Reference Set"
   ]
  },
  {
   "cell_type": "code",
   "execution_count": null,
   "metadata": {
    "collapsed": false,
    "jupyter": {
     "outputs_hidden": false
    },
    "pycharm": {
     "name": "#%%\n"
    }
   },
   "outputs": [],
   "source": [
    "import pandas as pd\n",
    "\n",
    "data = pd.read_csv('./results/NORDHAUS/SUFFICIENTARIAN/archive_199.csv', index_col=0)\n",
    "\n",
    "ref_set = []\n",
    "for i, row in data.iterrows():\n",
    "    solution = Solution(problem)\n",
    "    solution.objectives = row.values[n_decision_vars::]\n",
    "    ref_set.append(solution)"
   ]
  },
  {
   "cell_type": "code",
   "execution_count": null,
   "metadata": {},
   "outputs": [],
   "source": [
    "data.iloc[:, n_decision_vars::].min()"
   ]
  },
  {
   "cell_type": "code",
   "execution_count": null,
   "metadata": {},
   "outputs": [],
   "source": [
    "data.iloc[:, n_decision_vars::].max()"
   ]
  },
  {
   "cell_type": "markdown",
   "metadata": {
    "pycharm": {
     "name": "#%% md\n"
    }
   },
   "source": [
    "## Compute Hypervolume"
   ]
  },
  {
   "cell_type": "code",
   "execution_count": null,
   "metadata": {
    "collapsed": false,
    "jupyter": {
     "outputs_hidden": false
    },
    "pycharm": {
     "name": "#%%\n"
    }
   },
   "outputs": [],
   "source": [
    "import pandas as pd\n",
    "\n",
    "# archives = []\n",
    "# for i in range(1, 200):\n",
    "#     archive = pd.read_csv(f'./results/NORDHAUS/SUFFICIENTARIAN/archive_{i}.csv')\n",
    "#     archives.append(archive)\n",
    "\n",
    "# big_archive = pd.concat(archives)\n",
    "# big_archive\n"
   ]
  },
  {
   "cell_type": "code",
   "execution_count": null,
   "metadata": {
    "collapsed": false,
    "jupyter": {
     "outputs_hidden": false
    },
    "pycharm": {
     "name": "#%%\n"
    }
   },
   "outputs": [],
   "source": [
    "from platypus import Hypervolume\n",
    "\n",
    "hv = Hypervolume(reference_set=ref_set)\n",
    "\n",
    "# nfes = []\n",
    "# hvs = []\n",
    "# for nfe, archive in archives.items():\n",
    "#     nfes.append(nfe)\n",
    "#     hvs.append(hv.calculate(archive))\n"
   ]
  },
  {
   "cell_type": "code",
   "execution_count": null,
   "metadata": {},
   "outputs": [],
   "source": [
    "Hypervolume??"
   ]
  },
  {
   "cell_type": "markdown",
   "metadata": {
    "pycharm": {
     "name": "#%% md\n"
    }
   },
   "source": [
    "## Plotting"
   ]
  },
  {
   "cell_type": "code",
   "execution_count": null,
   "metadata": {
    "collapsed": false,
    "jupyter": {
     "outputs_hidden": false
    },
    "pycharm": {
     "name": "#%%\n"
    }
   },
   "outputs": [],
   "source": [
    "import matplotlib.pyplot as plt\n",
    "import seaborn as sns\n",
    "\n",
    "sns.set_style(\"white\")\n",
    "\n",
    "fig, ax = plt.subplots()\n",
    "\n",
    "ax.plot(nfes, hvs)\n",
    "ax.set_xlabel('nfe')\n",
    "ax.set_ylabel('hypervolume')\n",
    "\n",
    "sns.despine()\n",
    "\n",
    "plt.show()"
   ]
  }
 ],
 "metadata": {
  "kernelspec": {
   "display_name": "Python 3 (ipykernel)",
   "language": "python",
   "name": "python3"
  },
  "language_info": {
   "codemirror_mode": {
    "name": "ipython",
    "version": 3
   },
   "file_extension": ".py",
   "mimetype": "text/x-python",
   "name": "python",
   "nbconvert_exporter": "python",
   "pygments_lexer": "ipython3",
   "version": "3.9.7"
  }
 },
 "nbformat": 4,
 "nbformat_minor": 4
}