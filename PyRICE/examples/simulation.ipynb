{
 "cells": [
  {
   "cell_type": "markdown",
   "metadata": {
    "collapsed": true,
    "pycharm": {
     "name": "#%% md\n"
    }
   },
   "source": [
    "# How to run the PyRICE model\n",
    "\n",
    "This notebook provides an example of how to run the PyRICE model and shows the main parameters and their domains.\n",
    "\n",
    "---"
   ]
  },
  {
   "cell_type": "markdown",
   "source": [
    "## 1. Imports\n",
    "First, we need some imports, and we need to set the current working directory straight."
   ],
   "metadata": {
    "collapsed": false,
    "pycharm": {
     "name": "#%% md\n"
    }
   }
  },
  {
   "cell_type": "code",
   "execution_count": 1,
   "outputs": [],
   "source": [
    "from PyRICE.model.pyrice import PyRICE\n",
    "from PyRICE.model.enumerations import *"
   ],
   "metadata": {
    "collapsed": false,
    "pycharm": {
     "name": "#%%\n"
    }
   }
  },
  {
   "cell_type": "markdown",
   "source": [
    "---\n",
    "## 2. Initialize the model\n",
    "\n",
    "The most important parameters are listed below.\n",
    "\n",
    "### Model Parameters\n",
    "\n",
    "**Bolded** elements are model default values.\n",
    "\n",
    "| Variable | Values | Description |\n",
    "| --------------- | --------------- | ---------------------------- |\n",
    "| `model_specification` | **`ModelSpec.EMA`** <br> `ModelSpec.Validation_1` <br> `ModelSpec.Validation_2` | Stochastic simulation model <br> Replicating RICE2010 <br> Deterministic RICE2010|\n",
    "| `damage_function` | **`DamageFunction.NORDHAUS`** <br> `DamageFunction.NEWBOLD` <br> `DamageFunction.WEITZMAN` | Nordhaus + SLR <br> Newbold & Daigneault <br> Weitzman |\n",
    "| `welfare_function` | **`WelfareFunction.UTILITARIAN`** <br> `WelfareFunction.EGALITARIAN` <br> `WelfareFunction.SUFFICIENTARIAN` <br> `WelfareFunction.PRIORITARIAN`| Total aggregated utility <br> Equal distribution of risks & benefits <br> People above some threshold  <br> Wellbeing of worst-off region|\n"
   ],
   "metadata": {
    "collapsed": false
   }
  },
  {
   "cell_type": "code",
   "execution_count": 2,
   "outputs": [],
   "source": [
    "model_specification = ModelSpec.STANDARD\n",
    "damage_function = DamageFunction.WEITZMAN\n",
    "welfare_function = WelfareFunction.SUFFICIENTARIAN\n",
    "\n",
    "model = PyRICE(model_specification=model_specification,\n",
    "               damage_function=damage_function,\n",
    "               welfare_function=welfare_function)"
   ],
   "metadata": {
    "collapsed": false,
    "pycharm": {
     "name": "#%%\n"
    }
   }
  },
  {
   "cell_type": "markdown",
   "source": [
    "---\n",
    "## 3. Run the model\n",
    "Next, we can run the model with specific lever values. The most important parameters are listed below.\n",
    "\n",
    "### Levers\n",
    "\n",
    "| Variable        | Values          | Default       | Description |\n",
    "| --------------- | --------------- | ----------    | ----------- |\n",
    "| `sr`            | `[0.1, 0.5]`    | `0.248`       | Savings rate |\n",
    "| `miu`           | `[2005, 2305]`  | `2135`        | Emission control rate target (year of zero-emission)|\n",
    "| `irstp`         | `[0.001, 0.015]`| `0.015`       | Initial rate of social time preference |\n",
    "\n",
    "### Miscellaneous Parameters\n",
    "\n",
    "| Variable        | Values          | Default       | Description |\n",
    "| --------------- | --------------- | ----------    | ----------- |\n",
    "| `precision`     | `{10, 20, 30}` | `10`           | Precision of timeseries data of final outcomes in years |\n",
    "\n",
    "Let's take the **original policy by Nordhaus** (which is also the default policy):"
   ],
   "metadata": {
    "collapsed": false
   }
  },
  {
   "cell_type": "code",
   "execution_count": 3,
   "outputs": [],
   "source": [
    "sr = 0.248\n",
    "miu = 2135\n",
    "irstp = 0.015\n",
    "\n",
    "results = model(sr=sr, miu=miu, irstp=irstp)\n"
   ],
   "metadata": {
    "collapsed": false,
    "pycharm": {
     "name": "#%%\n"
    }
   }
  },
  {
   "cell_type": "markdown",
   "source": [
    "---\n",
    "## 4. View Results\n",
    "Running the model will return a dictionary containing all outcome variables. This dictionary is handy for conducting further optimization. It is, however, not handy, to inspect the results.\n",
    "\n",
    "An alternative data structure for this is in form of a `Results` object which is also saved within the model and contains the same information as the dictionary.\n",
    "\n",
    "First, let's get the results in better formatting."
   ],
   "metadata": {
    "collapsed": false
   }
  },
  {
   "cell_type": "code",
   "execution_count": 4,
   "outputs": [],
   "source": [
    "results = model.get_better_formatted_results()"
   ],
   "metadata": {
    "collapsed": false,
    "pycharm": {
     "name": "#%%\n"
    }
   }
  },
  {
   "cell_type": "markdown",
   "source": [
    "## Highly Aggregated variables"
   ],
   "metadata": {
    "collapsed": false
   }
  },
  {
   "cell_type": "code",
   "execution_count": 5,
   "outputs": [
    {
     "name": "stdout",
     "output_type": "stream",
     "text": [
      "aggregated_utility_gini: \t0.3690327913633553\n",
      "aggregated_impact_gini: \t0.491654347271235\n",
      "aggregated_utility: \t\t2473.657740431852\n"
     ]
    }
   ],
   "source": [
    "print(f'aggregated_utility_gini: \\t{results.aggregated_utility_gini}')\n",
    "print(f'aggregated_impact_gini: \\t{results.aggregated_impact_gini}')\n",
    "print(f'aggregated_utility: \\t\\t{results.aggregated_utility}')"
   ],
   "metadata": {
    "collapsed": false,
    "pycharm": {
     "name": "#%%\n"
    }
   }
  },
  {
   "cell_type": "markdown",
   "source": [
    "## Dataframe on spatially aggregated variables of interest"
   ],
   "metadata": {
    "collapsed": false
   }
  },
  {
   "cell_type": "code",
   "execution_count": 6,
   "outputs": [
    {
     "data": {
      "text/plain": "        Damges      Utility  Lowest income per capita  \\\n2005  0.087272  2473.657740                  0.389919   \n2015  0.245626 -1070.654524                  0.691963   \n2025  0.487449   667.743977                  0.877597   \n2035  0.905594  2010.102119                  1.243212   \n2045  1.554466  2216.694928                  1.704938   \n\n      Highest climate impact per capita  Distance to threshold  \\\n2005                           0.000980               0.141524   \n2015                           0.008097               0.356425   \n2025                           0.011462               0.323883   \n2035                           0.015049               0.116144   \n2045                           0.019170               0.000000   \n\n      Population under threshold  Intratemporal utility GINI  \\\n2005                  524.319045                    0.505547   \n2015                  189.258700                    0.433054   \n2025                  227.539761                    0.419838   \n2035                  265.114464                    0.405447   \n2045                    0.000000                    0.391946   \n\n      Intratemporal impact GINI  Atmospheric temperature  Industrial emission  \\\n2005                   0.585386                 0.830000             9.567636   \n2015                   0.568593                 0.980000             9.726659   \n2025                   0.562394                 1.196959            10.166511   \n2035                   0.558169                 1.436645            10.368132   \n2045                   0.558917                 1.681077            10.309960   \n\n      Total output  Regions below threshold  \n2005     55.291673  [India, Africa, Africa]  \n2015     81.009176                 [Africa]  \n2025    111.752715                 [Africa]  \n2035    148.171906                 [Africa]  \n2045    189.604644                       []  ",
      "text/html": "<div>\n<style scoped>\n    .dataframe tbody tr th:only-of-type {\n        vertical-align: middle;\n    }\n\n    .dataframe tbody tr th {\n        vertical-align: top;\n    }\n\n    .dataframe thead th {\n        text-align: right;\n    }\n</style>\n<table border=\"1\" class=\"dataframe\">\n  <thead>\n    <tr style=\"text-align: right;\">\n      <th></th>\n      <th>Damges</th>\n      <th>Utility</th>\n      <th>Lowest income per capita</th>\n      <th>Highest climate impact per capita</th>\n      <th>Distance to threshold</th>\n      <th>Population under threshold</th>\n      <th>Intratemporal utility GINI</th>\n      <th>Intratemporal impact GINI</th>\n      <th>Atmospheric temperature</th>\n      <th>Industrial emission</th>\n      <th>Total output</th>\n      <th>Regions below threshold</th>\n    </tr>\n  </thead>\n  <tbody>\n    <tr>\n      <th>2005</th>\n      <td>0.087272</td>\n      <td>2473.657740</td>\n      <td>0.389919</td>\n      <td>0.000980</td>\n      <td>0.141524</td>\n      <td>524.319045</td>\n      <td>0.505547</td>\n      <td>0.585386</td>\n      <td>0.830000</td>\n      <td>9.567636</td>\n      <td>55.291673</td>\n      <td>[India, Africa, Africa]</td>\n    </tr>\n    <tr>\n      <th>2015</th>\n      <td>0.245626</td>\n      <td>-1070.654524</td>\n      <td>0.691963</td>\n      <td>0.008097</td>\n      <td>0.356425</td>\n      <td>189.258700</td>\n      <td>0.433054</td>\n      <td>0.568593</td>\n      <td>0.980000</td>\n      <td>9.726659</td>\n      <td>81.009176</td>\n      <td>[Africa]</td>\n    </tr>\n    <tr>\n      <th>2025</th>\n      <td>0.487449</td>\n      <td>667.743977</td>\n      <td>0.877597</td>\n      <td>0.011462</td>\n      <td>0.323883</td>\n      <td>227.539761</td>\n      <td>0.419838</td>\n      <td>0.562394</td>\n      <td>1.196959</td>\n      <td>10.166511</td>\n      <td>111.752715</td>\n      <td>[Africa]</td>\n    </tr>\n    <tr>\n      <th>2035</th>\n      <td>0.905594</td>\n      <td>2010.102119</td>\n      <td>1.243212</td>\n      <td>0.015049</td>\n      <td>0.116144</td>\n      <td>265.114464</td>\n      <td>0.405447</td>\n      <td>0.558169</td>\n      <td>1.436645</td>\n      <td>10.368132</td>\n      <td>148.171906</td>\n      <td>[Africa]</td>\n    </tr>\n    <tr>\n      <th>2045</th>\n      <td>1.554466</td>\n      <td>2216.694928</td>\n      <td>1.704938</td>\n      <td>0.019170</td>\n      <td>0.000000</td>\n      <td>0.000000</td>\n      <td>0.391946</td>\n      <td>0.558917</td>\n      <td>1.681077</td>\n      <td>10.309960</td>\n      <td>189.604644</td>\n      <td>[]</td>\n    </tr>\n  </tbody>\n</table>\n</div>"
     },
     "execution_count": 6,
     "metadata": {},
     "output_type": "execute_result"
    }
   ],
   "source": [
    "results.df_main.head()"
   ],
   "metadata": {
    "collapsed": false,
    "pycharm": {
     "name": "#%%\n"
    }
   }
  },
  {
   "cell_type": "markdown",
   "source": [
    "## Dataframe on spatially and temporally disaggregated population"
   ],
   "metadata": {
    "collapsed": false
   }
  },
  {
   "cell_type": "code",
   "execution_count": 7,
   "outputs": [
    {
     "data": {
      "text/plain": "              US  OECD-Europe       Japan      Russia  Non-Russia Eurasia  \\\n2005  296.842578   490.080193  127.773000  143.150000          155.942468   \n2015  325.864356   511.847206  126.110786  137.963728          157.730876   \n2025  351.756112   524.060185  121.100084  132.326519          159.228609   \n2035  372.610827   529.149615  114.022140  125.369495          157.787111   \n2045  389.051763   529.144110  106.008825  119.081377          154.937380   \n\n            China        India  Middle East       Africa  Latin America  \\\n2005  1304.500000  1094.583000   412.769001   763.506112     555.380079   \n2015  1387.750163  1252.943464   499.316474   946.293499     617.246624   \n2025  1444.554518  1385.654351   582.455128  1137.698804     668.207819   \n2035  1453.711091  1479.182218   655.972586  1325.572319     704.769042   \n2045  1431.779453  1543.052473   718.790224  1503.174171     724.343533   \n\n             OHI  Other non-OECD Asia  \n2005  129.169624           937.195567  \n2015  138.914928          1081.012964  \n2025  146.531473          1214.655542  \n2035  151.223203          1328.204071  \n2045  152.626045          1416.592288  ",
      "text/html": "<div>\n<style scoped>\n    .dataframe tbody tr th:only-of-type {\n        vertical-align: middle;\n    }\n\n    .dataframe tbody tr th {\n        vertical-align: top;\n    }\n\n    .dataframe thead th {\n        text-align: right;\n    }\n</style>\n<table border=\"1\" class=\"dataframe\">\n  <thead>\n    <tr style=\"text-align: right;\">\n      <th></th>\n      <th>US</th>\n      <th>OECD-Europe</th>\n      <th>Japan</th>\n      <th>Russia</th>\n      <th>Non-Russia Eurasia</th>\n      <th>China</th>\n      <th>India</th>\n      <th>Middle East</th>\n      <th>Africa</th>\n      <th>Latin America</th>\n      <th>OHI</th>\n      <th>Other non-OECD Asia</th>\n    </tr>\n  </thead>\n  <tbody>\n    <tr>\n      <th>2005</th>\n      <td>296.842578</td>\n      <td>490.080193</td>\n      <td>127.773000</td>\n      <td>143.150000</td>\n      <td>155.942468</td>\n      <td>1304.500000</td>\n      <td>1094.583000</td>\n      <td>412.769001</td>\n      <td>763.506112</td>\n      <td>555.380079</td>\n      <td>129.169624</td>\n      <td>937.195567</td>\n    </tr>\n    <tr>\n      <th>2015</th>\n      <td>325.864356</td>\n      <td>511.847206</td>\n      <td>126.110786</td>\n      <td>137.963728</td>\n      <td>157.730876</td>\n      <td>1387.750163</td>\n      <td>1252.943464</td>\n      <td>499.316474</td>\n      <td>946.293499</td>\n      <td>617.246624</td>\n      <td>138.914928</td>\n      <td>1081.012964</td>\n    </tr>\n    <tr>\n      <th>2025</th>\n      <td>351.756112</td>\n      <td>524.060185</td>\n      <td>121.100084</td>\n      <td>132.326519</td>\n      <td>159.228609</td>\n      <td>1444.554518</td>\n      <td>1385.654351</td>\n      <td>582.455128</td>\n      <td>1137.698804</td>\n      <td>668.207819</td>\n      <td>146.531473</td>\n      <td>1214.655542</td>\n    </tr>\n    <tr>\n      <th>2035</th>\n      <td>372.610827</td>\n      <td>529.149615</td>\n      <td>114.022140</td>\n      <td>125.369495</td>\n      <td>157.787111</td>\n      <td>1453.711091</td>\n      <td>1479.182218</td>\n      <td>655.972586</td>\n      <td>1325.572319</td>\n      <td>704.769042</td>\n      <td>151.223203</td>\n      <td>1328.204071</td>\n    </tr>\n    <tr>\n      <th>2045</th>\n      <td>389.051763</td>\n      <td>529.144110</td>\n      <td>106.008825</td>\n      <td>119.081377</td>\n      <td>154.937380</td>\n      <td>1431.779453</td>\n      <td>1543.052473</td>\n      <td>718.790224</td>\n      <td>1503.174171</td>\n      <td>724.343533</td>\n      <td>152.626045</td>\n      <td>1416.592288</td>\n    </tr>\n  </tbody>\n</table>\n</div>"
     },
     "execution_count": 7,
     "metadata": {},
     "output_type": "execute_result"
    }
   ],
   "source": [
    "results.df_population.head()"
   ],
   "metadata": {
    "collapsed": false,
    "pycharm": {
     "name": "#%%\n"
    }
   }
  },
  {
   "cell_type": "markdown",
   "source": [
    "## Dataframe on spatially disaggregated CPC"
   ],
   "metadata": {
    "collapsed": false
   }
  },
  {
   "cell_type": "code",
   "execution_count": 8,
   "outputs": [
    {
     "data": {
      "text/plain": "             US  OECD-Europe      Japan     Russia  Non-Russia Eurasia  \\\n2005  34.276554    21.921925  25.678621   9.586258            4.163815   \n2015  38.936854    25.548341  28.713761  14.496564           12.679826   \n2025  46.271728    31.352820  34.746644  16.646885           12.560557   \n2035  54.325731    37.918028  41.827055  20.742332           12.675307   \n2045  62.652572    44.888362  49.329607  25.160749           12.974942   \n\n          China     India  Middle East    Africa  Latin America        OHI  \\\n2005   2.624481  1.564919     6.243077  1.190955       6.264255  24.158743   \n2015   6.617180  2.668637     8.618536  2.113509       8.769720  29.130547   \n2025   8.927207  3.894266    11.211704  2.680503      11.748471  35.267724   \n2035  11.763691  5.459634    14.194919  3.797226      15.298614  42.170385   \n2045  15.073098  7.405389    17.563930  5.207507      19.442211  49.538420   \n\n      Other non-OECD Asia  \n2005             2.115834  \n2015             2.777955  \n2025             4.120208  \n2035             5.835436  \n2045             8.002711  ",
      "text/html": "<div>\n<style scoped>\n    .dataframe tbody tr th:only-of-type {\n        vertical-align: middle;\n    }\n\n    .dataframe tbody tr th {\n        vertical-align: top;\n    }\n\n    .dataframe thead th {\n        text-align: right;\n    }\n</style>\n<table border=\"1\" class=\"dataframe\">\n  <thead>\n    <tr style=\"text-align: right;\">\n      <th></th>\n      <th>US</th>\n      <th>OECD-Europe</th>\n      <th>Japan</th>\n      <th>Russia</th>\n      <th>Non-Russia Eurasia</th>\n      <th>China</th>\n      <th>India</th>\n      <th>Middle East</th>\n      <th>Africa</th>\n      <th>Latin America</th>\n      <th>OHI</th>\n      <th>Other non-OECD Asia</th>\n    </tr>\n  </thead>\n  <tbody>\n    <tr>\n      <th>2005</th>\n      <td>34.276554</td>\n      <td>21.921925</td>\n      <td>25.678621</td>\n      <td>9.586258</td>\n      <td>4.163815</td>\n      <td>2.624481</td>\n      <td>1.564919</td>\n      <td>6.243077</td>\n      <td>1.190955</td>\n      <td>6.264255</td>\n      <td>24.158743</td>\n      <td>2.115834</td>\n    </tr>\n    <tr>\n      <th>2015</th>\n      <td>38.936854</td>\n      <td>25.548341</td>\n      <td>28.713761</td>\n      <td>14.496564</td>\n      <td>12.679826</td>\n      <td>6.617180</td>\n      <td>2.668637</td>\n      <td>8.618536</td>\n      <td>2.113509</td>\n      <td>8.769720</td>\n      <td>29.130547</td>\n      <td>2.777955</td>\n    </tr>\n    <tr>\n      <th>2025</th>\n      <td>46.271728</td>\n      <td>31.352820</td>\n      <td>34.746644</td>\n      <td>16.646885</td>\n      <td>12.560557</td>\n      <td>8.927207</td>\n      <td>3.894266</td>\n      <td>11.211704</td>\n      <td>2.680503</td>\n      <td>11.748471</td>\n      <td>35.267724</td>\n      <td>4.120208</td>\n    </tr>\n    <tr>\n      <th>2035</th>\n      <td>54.325731</td>\n      <td>37.918028</td>\n      <td>41.827055</td>\n      <td>20.742332</td>\n      <td>12.675307</td>\n      <td>11.763691</td>\n      <td>5.459634</td>\n      <td>14.194919</td>\n      <td>3.797226</td>\n      <td>15.298614</td>\n      <td>42.170385</td>\n      <td>5.835436</td>\n    </tr>\n    <tr>\n      <th>2045</th>\n      <td>62.652572</td>\n      <td>44.888362</td>\n      <td>49.329607</td>\n      <td>25.160749</td>\n      <td>12.974942</td>\n      <td>15.073098</td>\n      <td>7.405389</td>\n      <td>17.563930</td>\n      <td>5.207507</td>\n      <td>19.442211</td>\n      <td>49.538420</td>\n      <td>8.002711</td>\n    </tr>\n  </tbody>\n</table>\n</div>"
     },
     "execution_count": 8,
     "metadata": {},
     "output_type": "execute_result"
    }
   ],
   "source": [
    "results.df_cpc.head()"
   ],
   "metadata": {
    "collapsed": false,
    "pycharm": {
     "name": "#%%\n"
    }
   }
  },
  {
   "cell_type": "markdown",
   "source": [
    "## Dataframe on CPC pre damage\n",
    "Cell entries represent quintiles."
   ],
   "metadata": {
    "collapsed": false
   }
  },
  {
   "cell_type": "code",
   "execution_count": 9,
   "outputs": [
    {
     "data": {
      "text/plain": "                                                     US  \\\n2005  [8.9224726710998, 17.673359329293834, 26.25265...   \n2015  [10.140987438402323, 20.086955887604603, 29.83...   \n2025  [12.061819930164738, 23.891681784749384, 35.48...   \n2035  [14.177773696362836, 28.082897898564852, 41.71...   \n2045  [16.37410662711248, 32.43332658831895, 48.1776...   \n\n                                            OECD-Europe  \\\n2005  [7.992526419783532, 13.638652501271912, 18.391...   \n2015  [9.332956105510688, 15.92599616782146, 21.4754...   \n2025  [11.468764029876265, 19.570593703061622, 26.39...   \n2035  [13.89678733651112, 23.71383507692984, 31.9769...   \n2045  [16.489363276887577, 28.13787329423615, 37.942...   \n\n                                                  Japan  \\\n2005  [9.899247036554964, 16.45589117764981, 21.3412...   \n2015  [11.077547243334688, 18.41462398892, 23.881465...   \n2025  [13.41857717641339, 22.306206215336545, 28.928...   \n2035  [16.174948021368724, 26.888225282275283, 34.87...   \n2045  [19.10799198881071, 31.763934734646373, 41.193...   \n\n                                                 Russia  \\\n2005  [3.406456492836089, 5.373565171797775, 7.29269...   \n2015  [5.152676325822566, 8.128165471720106, 11.0310...   \n2025  [5.921848573733898, 9.341507609270376, 12.6777...   \n2035  [7.385600669583527, 11.65052499990641, 15.8114...   \n2045  [8.969013150303644, 14.148302434281808, 19.201...   \n\n                                     Non-Russia Eurasia  \\\n2005  [1.7697210949898872, 2.705072226116459, 3.5181...   \n2015  [5.386984868790558, 8.234169323250466, 10.7090...   \n2025  [5.340378200289258, 8.162929620637664, 10.6163...   \n2035  [5.396432780361215, 8.24861074187679, 10.72780...   \n2045  [5.5355979244874405, 8.461328874290476, 11.004...   \n\n                                                  China  \\\n2005  [0.854970913526864, 1.4074136576519145, 2.0124...   \n2015  [2.164092122296639, 3.5624285705498515, 5.0939...   \n2025  [2.9275112657425018, 4.819133929760733, 6.8909...   \n2035  [3.8707328562263132, 6.371821778711008, 9.1111...   \n2045  [4.979626079104554, 8.197230622525955, 11.7212...   \n\n                                                  India  \\\n2005  [0.638109144538283, 0.92171320877752, 1.197439...   \n2015  [1.089611814377152, 1.5738837318781085, 2.0447...   \n2025  [1.5938031778903832, 2.3021601458416647, 2.990...   \n2035  [2.24092494130315, 3.236891581882328, 4.205192...   \n2045  [3.0493756019187748, 4.404653647216008, 5.7222...   \n\n                                            Middle East  \\\n2005  [2.1733546279734735, 3.555323333332738, 4.9085...   \n2015  [3.004983129878101, 4.91575856991584, 6.786743...   \n2025  [3.9168216656775936, 6.407406909691277, 8.8461...   \n2035  [4.971336386594224, 8.132454789297384, 11.2277...   \n2045  [6.16870947984703, 10.091200243147199, 13.9320...   \n\n                                                 Africa  \\\n2005  [0.39224888751856923, 0.6369693071736533, 0.88...   \n2015  [0.6971481372718336, 1.1320923529054514, 1.573...   \n2025  [0.8877721021824835, 1.4416448302316829, 2.003...   \n2035  [1.2622068511336477, 2.049685924063652, 2.8483...   \n2045  [1.7382607219113726, 2.82274536131258, 3.92257...   \n\n                                          Latin America  \\\n2005  [1.3478796842514897, 2.711059885609995, 4.1613...   \n2015  [1.8881338374288674, 3.7977009113828166, 5.829...   \n2025  [2.5320423508968224, 5.092827294888739, 7.8171...   \n2035  [3.301535772938589, 6.640549078303466, 10.1928...   \n2045  [4.202326051021726, 8.45235499599175, 12.97382...   \n\n                                                    OHI  \\\n2005  [8.776638808896472, 15.281424899716676, 20.609...   \n2015  [10.608775824529852, 18.471446139056344, 24.91...   \n2025  [12.863075746759288, 22.396515372629793, 30.20...   \n2035  [15.413615314393866, 26.837381597756387, 36.19...   \n2045  [18.153476443342022, 31.60788463306799, 42.627...   \n\n                                    Other non-OECD Asia  \n2005  [0.7984760012858524, 1.211401132939834, 1.6400...  \n2015  [1.049674615744739, 1.592504992865954, 2.15601...  \n2025  [1.55943597186949, 2.3658851362190627, 3.20305...  \n2035  [2.213345262832771, 3.3579581035181962, 4.5461...  \n2045  [3.04293768462177, 4.616567251463918, 6.250142...  ",
      "text/html": "<div>\n<style scoped>\n    .dataframe tbody tr th:only-of-type {\n        vertical-align: middle;\n    }\n\n    .dataframe tbody tr th {\n        vertical-align: top;\n    }\n\n    .dataframe thead th {\n        text-align: right;\n    }\n</style>\n<table border=\"1\" class=\"dataframe\">\n  <thead>\n    <tr style=\"text-align: right;\">\n      <th></th>\n      <th>US</th>\n      <th>OECD-Europe</th>\n      <th>Japan</th>\n      <th>Russia</th>\n      <th>Non-Russia Eurasia</th>\n      <th>China</th>\n      <th>India</th>\n      <th>Middle East</th>\n      <th>Africa</th>\n      <th>Latin America</th>\n      <th>OHI</th>\n      <th>Other non-OECD Asia</th>\n    </tr>\n  </thead>\n  <tbody>\n    <tr>\n      <th>2005</th>\n      <td>[8.9224726710998, 17.673359329293834, 26.25265...</td>\n      <td>[7.992526419783532, 13.638652501271912, 18.391...</td>\n      <td>[9.899247036554964, 16.45589117764981, 21.3412...</td>\n      <td>[3.406456492836089, 5.373565171797775, 7.29269...</td>\n      <td>[1.7697210949898872, 2.705072226116459, 3.5181...</td>\n      <td>[0.854970913526864, 1.4074136576519145, 2.0124...</td>\n      <td>[0.638109144538283, 0.92171320877752, 1.197439...</td>\n      <td>[2.1733546279734735, 3.555323333332738, 4.9085...</td>\n      <td>[0.39224888751856923, 0.6369693071736533, 0.88...</td>\n      <td>[1.3478796842514897, 2.711059885609995, 4.1613...</td>\n      <td>[8.776638808896472, 15.281424899716676, 20.609...</td>\n      <td>[0.7984760012858524, 1.211401132939834, 1.6400...</td>\n    </tr>\n    <tr>\n      <th>2015</th>\n      <td>[10.140987438402323, 20.086955887604603, 29.83...</td>\n      <td>[9.332956105510688, 15.92599616782146, 21.4754...</td>\n      <td>[11.077547243334688, 18.41462398892, 23.881465...</td>\n      <td>[5.152676325822566, 8.128165471720106, 11.0310...</td>\n      <td>[5.386984868790558, 8.234169323250466, 10.7090...</td>\n      <td>[2.164092122296639, 3.5624285705498515, 5.0939...</td>\n      <td>[1.089611814377152, 1.5738837318781085, 2.0447...</td>\n      <td>[3.004983129878101, 4.91575856991584, 6.786743...</td>\n      <td>[0.6971481372718336, 1.1320923529054514, 1.573...</td>\n      <td>[1.8881338374288674, 3.7977009113828166, 5.829...</td>\n      <td>[10.608775824529852, 18.471446139056344, 24.91...</td>\n      <td>[1.049674615744739, 1.592504992865954, 2.15601...</td>\n    </tr>\n    <tr>\n      <th>2025</th>\n      <td>[12.061819930164738, 23.891681784749384, 35.48...</td>\n      <td>[11.468764029876265, 19.570593703061622, 26.39...</td>\n      <td>[13.41857717641339, 22.306206215336545, 28.928...</td>\n      <td>[5.921848573733898, 9.341507609270376, 12.6777...</td>\n      <td>[5.340378200289258, 8.162929620637664, 10.6163...</td>\n      <td>[2.9275112657425018, 4.819133929760733, 6.8909...</td>\n      <td>[1.5938031778903832, 2.3021601458416647, 2.990...</td>\n      <td>[3.9168216656775936, 6.407406909691277, 8.8461...</td>\n      <td>[0.8877721021824835, 1.4416448302316829, 2.003...</td>\n      <td>[2.5320423508968224, 5.092827294888739, 7.8171...</td>\n      <td>[12.863075746759288, 22.396515372629793, 30.20...</td>\n      <td>[1.55943597186949, 2.3658851362190627, 3.20305...</td>\n    </tr>\n    <tr>\n      <th>2035</th>\n      <td>[14.177773696362836, 28.082897898564852, 41.71...</td>\n      <td>[13.89678733651112, 23.71383507692984, 31.9769...</td>\n      <td>[16.174948021368724, 26.888225282275283, 34.87...</td>\n      <td>[7.385600669583527, 11.65052499990641, 15.8114...</td>\n      <td>[5.396432780361215, 8.24861074187679, 10.72780...</td>\n      <td>[3.8707328562263132, 6.371821778711008, 9.1111...</td>\n      <td>[2.24092494130315, 3.236891581882328, 4.205192...</td>\n      <td>[4.971336386594224, 8.132454789297384, 11.2277...</td>\n      <td>[1.2622068511336477, 2.049685924063652, 2.8483...</td>\n      <td>[3.301535772938589, 6.640549078303466, 10.1928...</td>\n      <td>[15.413615314393866, 26.837381597756387, 36.19...</td>\n      <td>[2.213345262832771, 3.3579581035181962, 4.5461...</td>\n    </tr>\n    <tr>\n      <th>2045</th>\n      <td>[16.37410662711248, 32.43332658831895, 48.1776...</td>\n      <td>[16.489363276887577, 28.13787329423615, 37.942...</td>\n      <td>[19.10799198881071, 31.763934734646373, 41.193...</td>\n      <td>[8.969013150303644, 14.148302434281808, 19.201...</td>\n      <td>[5.5355979244874405, 8.461328874290476, 11.004...</td>\n      <td>[4.979626079104554, 8.197230622525955, 11.7212...</td>\n      <td>[3.0493756019187748, 4.404653647216008, 5.7222...</td>\n      <td>[6.16870947984703, 10.091200243147199, 13.9320...</td>\n      <td>[1.7382607219113726, 2.82274536131258, 3.92257...</td>\n      <td>[4.202326051021726, 8.45235499599175, 12.97382...</td>\n      <td>[18.153476443342022, 31.60788463306799, 42.627...</td>\n      <td>[3.04293768462177, 4.616567251463918, 6.250142...</td>\n    </tr>\n  </tbody>\n</table>\n</div>"
     },
     "execution_count": 9,
     "metadata": {},
     "output_type": "execute_result"
    }
   ],
   "source": [
    "results.df_cpc_pre_damage.head()"
   ],
   "metadata": {
    "collapsed": false,
    "pycharm": {
     "name": "#%%\n"
    }
   }
  },
  {
   "cell_type": "markdown",
   "source": [
    "## Dataframe on CPC post damage\n",
    "Cell entries represent quintiles."
   ],
   "metadata": {
    "collapsed": false
   }
  },
  {
   "cell_type": "code",
   "execution_count": 10,
   "outputs": [
    {
     "data": {
      "text/plain": "                                                     US  \\\n2005  [8.91190408878549, 17.652425406632798, 26.2215...   \n2015  [10.123582167095572, 20.052480061746998, 29.78...   \n2025  [12.030649386442837, 23.829940130838697, 35.39...   \n2035  [14.124689958092716, 27.97775126314519, 41.559...   \n2045  [16.28966861191727, 32.266074365913056, 47.929...   \n\n                                            OECD-Europe  \\\n2005  [7.981923424116799, 13.620559276955115, 18.366...   \n2015  [9.302321606323403, 15.873720671060926, 21.404...   \n2025  [11.415767112336628, 19.480158400880757, 26.26...   \n2035  [13.806195182552251, 23.55924629707565, 31.768...   \n2045  [16.34412846940839, 27.890040886026053, 37.608...   \n\n                                                  Japan  \\\n2005  [9.88625597833333, 16.434295652294363, 21.3132...   \n2015  [11.054775271410342, 18.376769282344462, 23.83...   \n2025  [13.377416840473282, 22.237783838708832, 28.83...   \n2035  [16.103344530694063, 26.76919610297195, 34.716...   \n2045  [18.99178260780159, 31.57075550387796, 40.9433...   \n\n                                                 Russia  \\\n2005  [3.4031215055215807, 5.3683043467382685, 7.285...   \n2015  [5.146280186838308, 8.118075787688602, 11.0173...   \n2025  [5.90964400385569, 9.322255330025879, 12.65163...   \n2035  [7.363527899275021, 11.615705981954966, 15.764...   \n2045  [8.932065733962713, 14.090019185969354, 19.122...   \n\n                                     Non-Russia Eurasia  \\\n2005  [1.7677483786463275, 2.702056869512485, 3.5141...   \n2015  [5.383221015085465, 8.228416159009143, 10.7015...   \n2025  [5.332587722421298, 8.151021639561744, 10.6008...   \n2035  [5.381308707626824, 8.225493139213079, 10.6977...   \n2045  [5.508525281517396, 8.419947520588382, 10.9506...   \n\n                                                  China  \\\n2005  [0.8529563537731559, 1.4040973823650411, 2.007...   \n2015  [2.150583407359486, 3.5401911474994607, 5.0621...   \n2025  [2.9013421351801387, 4.776055514834997, 6.8293...   \n2035  [3.82319952486655, 6.293574602472629, 8.999223...   \n2045  [4.898756773793138, 8.064107304551777, 11.5309...   \n\n                                                  India  \\\n2005  [0.6337878019387009, 0.9154712694670125, 1.189...   \n2015  [1.0807892195427515, 1.5611399837839743, 2.028...   \n2025  [1.5771609084576617, 2.2781213122166224, 2.959...   \n2035  [2.211122071719539, 3.193842992483779, 4.14926...   \n2045  [2.999132203682868, 4.332079849764142, 5.62800...   \n\n                                            Middle East  \\\n2005  [2.1634543035383547, 3.5391277000850874, 4.886...   \n2015  [2.9866374066661723, 4.8857473711161985, 6.745...   \n2025  [3.885264340279694, 6.355783261216871, 8.77485...   \n2035  [4.919056265924145, 8.046931363669833, 11.1096...   \n2045  [6.086540340072443, 9.956782299494408, 13.7464...   \n\n                                                 Africa  \\\n2005  [0.38991853536284493, 0.6331850700595785, 0.87...   \n2015  [0.691962790064806, 1.12367191597621, 1.561490...   \n2025  [0.8775967463037841, 1.4251211647974662, 1.980...   \n2035  [1.2432117645902536, 2.018839980326778, 2.8054...   \n2045  [1.704938295649085, 2.7686333843381914, 3.8473...   \n\n                                          Latin America  \\\n2005  [1.3453601935781796, 2.7059923041512146, 4.153...   \n2015  [1.8834540603883179, 3.7882882346012994, 5.814...   \n2025  [2.5231959724858766, 5.075034118002806, 7.7898...   \n2035  [3.2856563172182858, 6.608609910504122, 10.143...   \n2045  [4.175573896009724, 8.39854700767198, 12.89123...   \n\n                                                    OHI  \\\n2005  [8.765022298834033, 15.261198839378403, 20.581...   \n2015  [10.568834770317002, 18.401902862449074, 24.81...   \n2025  [12.795455901836453, 22.27877923190228, 30.045...   \n2035  [15.299797878080147, 26.63920862480194, 35.926...   \n2045  [17.972977803581877, 31.293609832879138, 42.20...   \n\n                                    Other non-OECD Asia  \n2005  [0.7956960939410769, 1.2071836199507076, 1.634...  \n2015  [1.0446978845004489, 1.5849545870203665, 2.145...  \n2025  [1.5494746458942423, 2.3507723945053915, 3.182...  \n2035  [2.1945148981675877, 3.329389774536062, 4.5074...  \n2045  [3.0095544377196406, 4.565920139899732, 6.1815...  ",
      "text/html": "<div>\n<style scoped>\n    .dataframe tbody tr th:only-of-type {\n        vertical-align: middle;\n    }\n\n    .dataframe tbody tr th {\n        vertical-align: top;\n    }\n\n    .dataframe thead th {\n        text-align: right;\n    }\n</style>\n<table border=\"1\" class=\"dataframe\">\n  <thead>\n    <tr style=\"text-align: right;\">\n      <th></th>\n      <th>US</th>\n      <th>OECD-Europe</th>\n      <th>Japan</th>\n      <th>Russia</th>\n      <th>Non-Russia Eurasia</th>\n      <th>China</th>\n      <th>India</th>\n      <th>Middle East</th>\n      <th>Africa</th>\n      <th>Latin America</th>\n      <th>OHI</th>\n      <th>Other non-OECD Asia</th>\n    </tr>\n  </thead>\n  <tbody>\n    <tr>\n      <th>2005</th>\n      <td>[8.91190408878549, 17.652425406632798, 26.2215...</td>\n      <td>[7.981923424116799, 13.620559276955115, 18.366...</td>\n      <td>[9.88625597833333, 16.434295652294363, 21.3132...</td>\n      <td>[3.4031215055215807, 5.3683043467382685, 7.285...</td>\n      <td>[1.7677483786463275, 2.702056869512485, 3.5141...</td>\n      <td>[0.8529563537731559, 1.4040973823650411, 2.007...</td>\n      <td>[0.6337878019387009, 0.9154712694670125, 1.189...</td>\n      <td>[2.1634543035383547, 3.5391277000850874, 4.886...</td>\n      <td>[0.38991853536284493, 0.6331850700595785, 0.87...</td>\n      <td>[1.3453601935781796, 2.7059923041512146, 4.153...</td>\n      <td>[8.765022298834033, 15.261198839378403, 20.581...</td>\n      <td>[0.7956960939410769, 1.2071836199507076, 1.634...</td>\n    </tr>\n    <tr>\n      <th>2015</th>\n      <td>[10.123582167095572, 20.052480061746998, 29.78...</td>\n      <td>[9.302321606323403, 15.873720671060926, 21.404...</td>\n      <td>[11.054775271410342, 18.376769282344462, 23.83...</td>\n      <td>[5.146280186838308, 8.118075787688602, 11.0173...</td>\n      <td>[5.383221015085465, 8.228416159009143, 10.7015...</td>\n      <td>[2.150583407359486, 3.5401911474994607, 5.0621...</td>\n      <td>[1.0807892195427515, 1.5611399837839743, 2.028...</td>\n      <td>[2.9866374066661723, 4.8857473711161985, 6.745...</td>\n      <td>[0.691962790064806, 1.12367191597621, 1.561490...</td>\n      <td>[1.8834540603883179, 3.7882882346012994, 5.814...</td>\n      <td>[10.568834770317002, 18.401902862449074, 24.81...</td>\n      <td>[1.0446978845004489, 1.5849545870203665, 2.145...</td>\n    </tr>\n    <tr>\n      <th>2025</th>\n      <td>[12.030649386442837, 23.829940130838697, 35.39...</td>\n      <td>[11.415767112336628, 19.480158400880757, 26.26...</td>\n      <td>[13.377416840473282, 22.237783838708832, 28.83...</td>\n      <td>[5.90964400385569, 9.322255330025879, 12.65163...</td>\n      <td>[5.332587722421298, 8.151021639561744, 10.6008...</td>\n      <td>[2.9013421351801387, 4.776055514834997, 6.8293...</td>\n      <td>[1.5771609084576617, 2.2781213122166224, 2.959...</td>\n      <td>[3.885264340279694, 6.355783261216871, 8.77485...</td>\n      <td>[0.8775967463037841, 1.4251211647974662, 1.980...</td>\n      <td>[2.5231959724858766, 5.075034118002806, 7.7898...</td>\n      <td>[12.795455901836453, 22.27877923190228, 30.045...</td>\n      <td>[1.5494746458942423, 2.3507723945053915, 3.182...</td>\n    </tr>\n    <tr>\n      <th>2035</th>\n      <td>[14.124689958092716, 27.97775126314519, 41.559...</td>\n      <td>[13.806195182552251, 23.55924629707565, 31.768...</td>\n      <td>[16.103344530694063, 26.76919610297195, 34.716...</td>\n      <td>[7.363527899275021, 11.615705981954966, 15.764...</td>\n      <td>[5.381308707626824, 8.225493139213079, 10.6977...</td>\n      <td>[3.82319952486655, 6.293574602472629, 8.999223...</td>\n      <td>[2.211122071719539, 3.193842992483779, 4.14926...</td>\n      <td>[4.919056265924145, 8.046931363669833, 11.1096...</td>\n      <td>[1.2432117645902536, 2.018839980326778, 2.8054...</td>\n      <td>[3.2856563172182858, 6.608609910504122, 10.143...</td>\n      <td>[15.299797878080147, 26.63920862480194, 35.926...</td>\n      <td>[2.1945148981675877, 3.329389774536062, 4.5074...</td>\n    </tr>\n    <tr>\n      <th>2045</th>\n      <td>[16.28966861191727, 32.266074365913056, 47.929...</td>\n      <td>[16.34412846940839, 27.890040886026053, 37.608...</td>\n      <td>[18.99178260780159, 31.57075550387796, 40.9433...</td>\n      <td>[8.932065733962713, 14.090019185969354, 19.122...</td>\n      <td>[5.508525281517396, 8.419947520588382, 10.9506...</td>\n      <td>[4.898756773793138, 8.064107304551777, 11.5309...</td>\n      <td>[2.999132203682868, 4.332079849764142, 5.62800...</td>\n      <td>[6.086540340072443, 9.956782299494408, 13.7464...</td>\n      <td>[1.704938295649085, 2.7686333843381914, 3.8473...</td>\n      <td>[4.175573896009724, 8.39854700767198, 12.89123...</td>\n      <td>[17.972977803581877, 31.293609832879138, 42.20...</td>\n      <td>[3.0095544377196406, 4.565920139899732, 6.1815...</td>\n    </tr>\n  </tbody>\n</table>\n</div>"
     },
     "execution_count": 10,
     "metadata": {},
     "output_type": "execute_result"
    }
   ],
   "source": [
    "results.df_cpc_post_damage.head()"
   ],
   "metadata": {
    "collapsed": false,
    "pycharm": {
     "name": "#%%\n"
    }
   }
  },
  {
   "cell_type": "markdown",
   "source": [
    "---\n",
    "## 5. More Results\n",
    "\n",
    "More internal variables can also be accessed via the model attributes. For this purpose, go to the `Submodels` folder in this repository and have a look at the individual submodels and their attributes."
   ],
   "metadata": {
    "collapsed": false,
    "pycharm": {
     "name": "#%% md\n"
    }
   }
  }
 ],
 "metadata": {
  "kernelspec": {
   "name": "pycharm-2517ad8d",
   "language": "python",
   "display_name": "PyCharm (md_final)"
  },
  "language_info": {
   "codemirror_mode": {
    "name": "ipython",
    "version": 2
   },
   "file_extension": ".py",
   "mimetype": "text/x-python",
   "name": "python",
   "nbconvert_exporter": "python",
   "pygments_lexer": "ipython2",
   "version": "2.7.6"
  }
 },
 "nbformat": 4,
 "nbformat_minor": 0
}