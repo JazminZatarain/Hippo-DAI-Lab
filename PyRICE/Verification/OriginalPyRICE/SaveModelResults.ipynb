{
 "cells": [
  {
   "cell_type": "markdown",
   "metadata": {
    "collapsed": true,
    "pycharm": {
     "name": "#%% md\n"
    }
   },
   "source": [
    "# Saving Model Results\n",
    "\n",
    "This notebook is used to run the PyRICE model and save its results.\n",
    "\n",
    "---"
   ]
  },
  {
   "cell_type": "markdown",
   "source": [
    "## Directories"
   ],
   "metadata": {
    "collapsed": false
   }
  },
  {
   "cell_type": "code",
   "execution_count": 1,
   "outputs": [],
   "source": [
    "import os\n",
    "\n",
    "directory = os.getcwd()\n",
    "original_pyrice_directory = directory\n",
    "highest_directory = os.path.dirname(os.path.dirname(os.getcwd()))\n",
    "model_directory = highest_directory + \"/Model\"\n",
    "\n",
    "os.chdir(model_directory)"
   ],
   "metadata": {
    "collapsed": false,
    "pycharm": {
     "name": "#%%\n"
    }
   }
  },
  {
   "cell_type": "markdown",
   "source": [
    "## Imports"
   ],
   "metadata": {
    "collapsed": false
   }
  },
  {
   "cell_type": "code",
   "execution_count": 2,
   "outputs": [],
   "source": [
    "from Verification.OriginalPyRICE.Test import *"
   ],
   "metadata": {
    "collapsed": false,
    "pycharm": {
     "name": "#%%\n"
    }
   }
  },
  {
   "cell_type": "markdown",
   "source": [
    "## Saving Results"
   ],
   "metadata": {
    "collapsed": false
   }
  },
  {
   "cell_type": "code",
   "execution_count": 3,
   "outputs": [
    {
     "name": "stdout",
     "output_type": "stream",
     "text": [
      "Run #3/36\n",
      "Run #6/36\n",
      "Run #9/36\n",
      "Run #12/36\n",
      "Run #15/36\n",
      "Run #18/36\n",
      "Run #21/36\n",
      "Run #24/36\n",
      "Run #27/36\n",
      "Run #30/36\n",
      "Run #33/36\n",
      "Run #36/36\n",
      "\n"
     ]
    }
   ],
   "source": [
    "check = Check(quick=True)\n",
    "check.save_my_pickle()"
   ],
   "metadata": {
    "collapsed": false,
    "pycharm": {
     "name": "#%%\n"
    }
   }
  },
  {
   "cell_type": "code",
   "execution_count": 4,
   "outputs": [
    {
     "name": "stdout",
     "output_type": "stream",
     "text": [
      "Run #28/288\n",
      "Run #56/288\n",
      "Run #84/288\n",
      "Run #112/288\n",
      "Run #140/288\n",
      "Run #168/288\n",
      "Run #196/288\n",
      "Run #224/288\n",
      "Run #252/288\n",
      "Run #280/288\n",
      "Run #288/288\n",
      "\n"
     ]
    }
   ],
   "source": [
    "check = Check(quick=False)\n",
    "check.save_my_pickle()"
   ],
   "metadata": {
    "collapsed": false,
    "pycharm": {
     "name": "#%%\n"
    }
   }
  }
 ],
 "metadata": {
  "kernelspec": {
   "name": "pycharm-2517ad8d",
   "language": "python",
   "display_name": "PyCharm (md_final)"
  },
  "language_info": {
   "codemirror_mode": {
    "name": "ipython",
    "version": 2
   },
   "file_extension": ".py",
   "mimetype": "text/x-python",
   "name": "python",
   "nbconvert_exporter": "python",
   "pygments_lexer": "ipython2",
   "version": "2.7.6"
  }
 },
 "nbformat": 4,
 "nbformat_minor": 0
}