{
 "cells": [
  {
   "cell_type": "markdown",
   "metadata": {
    "collapsed": true,
    "pycharm": {
     "name": "#%% md\n"
    }
   },
   "source": [
    "# Checking results\n",
    "\n",
    "Running checks to ensure invariant model results from original PyRICE model to refactored PyRICE model.\n",
    "\n",
    "---"
   ]
  },
  {
   "cell_type": "markdown",
   "source": [
    "## Directories"
   ],
   "metadata": {
    "collapsed": false,
    "pycharm": {
     "name": "#%% md\n"
    }
   }
  },
  {
   "cell_type": "code",
   "execution_count": 1,
   "outputs": [],
   "source": [
    "import os\n",
    "\n",
    "directory = os.getcwd()\n",
    "original_pyrice_directory = directory\n",
    "highest_directory = os.path.dirname(os.path.dirname(os.getcwd()))\n",
    "model_directory = highest_directory + \"/Model\"\n",
    "\n",
    "os.chdir(model_directory)"
   ],
   "metadata": {
    "collapsed": false,
    "pycharm": {
     "name": "#%%\n"
    }
   }
  },
  {
   "cell_type": "markdown",
   "source": [
    "## Imports"
   ],
   "metadata": {
    "collapsed": false,
    "pycharm": {
     "name": "#%% md\n"
    }
   }
  },
  {
   "cell_type": "code",
   "execution_count": 2,
   "outputs": [],
   "source": [
    "from Verification.OriginalPyRICE.Test import *\n"
   ],
   "metadata": {
    "collapsed": false,
    "pycharm": {
     "name": "#%%\n"
    }
   }
  },
  {
   "cell_type": "markdown",
   "source": [
    "---\n",
    "## Test Execution\n",
    "Running several tests below."
   ],
   "metadata": {
    "collapsed": false,
    "pycharm": {
     "name": "#%% md\n"
    }
   }
  },
  {
   "cell_type": "markdown",
   "source": [
    "---\n",
    "## Quick Test\n",
    "Considering combinations of\n",
    "- 3x model specifications\n",
    "- 4x social welfare functions\n",
    "- 3x damage functions\n",
    "\n",
    "Thus, 36 runs have to be executed!"
   ],
   "metadata": {
    "collapsed": false,
    "pycharm": {
     "name": "#%% md\n"
    }
   }
  },
  {
   "cell_type": "code",
   "execution_count": 3,
   "outputs": [
    {
     "name": "stdout",
     "output_type": "stream",
     "text": [
      "Run #3/36\n",
      "Run #6/36\n",
      "Run #9/36\n",
      "Run #12/36\n",
      "Run #15/36\n",
      "Run #18/36\n",
      "Run #21/36\n",
      "Run #24/36\n",
      "Run #27/36\n",
      "Run #30/36\n",
      "Run #33/36\n",
      "Run #36/36\n",
      "\n",
      "Run time: 28.08 seconds\n",
      "\n",
      "Original and new results are identical: True\n",
      "\n",
      "####################################################################################\n",
      "####################################################################################\n",
      "####################################################################################\n",
      "################################# GOOD JOB! :D #####################################\n",
      "####################################################################################\n",
      "####################################################################################\n",
      "####################################################################################\n"
     ]
    }
   ],
   "source": [
    "check = Check(quick=True)\n",
    "check()"
   ],
   "metadata": {
    "collapsed": false,
    "pycharm": {
     "name": "#%%\n"
    }
   }
  },
  {
   "cell_type": "markdown",
   "source": [
    "---\n",
    "## Slow Test\n",
    "\n",
    "Considering combinations of\n",
    "- 3x model specifications\n",
    "- 4x social welfare functions\n",
    "- 3x damage functions\n",
    "- 2x savings rates\n",
    "- 2x initial rate of social time preference\n",
    "- 2x emission control rates\n",
    "\n",
    "Thus, 288 runs have to be executed!"
   ],
   "metadata": {
    "collapsed": false,
    "pycharm": {
     "name": "#%% md\n"
    }
   }
  },
  {
   "cell_type": "code",
   "execution_count": 4,
   "outputs": [
    {
     "name": "stdout",
     "output_type": "stream",
     "text": [
      "Run #28/288\n",
      "Run #56/288\n",
      "Run #84/288\n",
      "Run #112/288\n",
      "Run #140/288\n",
      "Run #168/288\n",
      "Run #196/288\n",
      "Run #224/288\n",
      "Run #252/288\n",
      "Run #280/288\n",
      "Run #288/288\n",
      "\n",
      "Run time: 244.1 seconds\n",
      "\n",
      "Original and new results are identical: True\n",
      "\n",
      "####################################################################################\n",
      "####################################################################################\n",
      "####################################################################################\n",
      "################################# GOOD JOB! :D #####################################\n",
      "####################################################################################\n",
      "####################################################################################\n",
      "####################################################################################\n"
     ]
    }
   ],
   "source": [
    "check = Check(quick=False)\n",
    "check()"
   ],
   "metadata": {
    "collapsed": false,
    "pycharm": {
     "name": "#%%\n"
    }
   }
  }
 ],
 "metadata": {
  "kernelspec": {
   "name": "pycharm-2517ad8d",
   "language": "python",
   "display_name": "PyCharm (md_final)"
  },
  "language_info": {
   "codemirror_mode": {
    "name": "ipython",
    "version": 2
   },
   "file_extension": ".py",
   "mimetype": "text/x-python",
   "name": "python",
   "nbconvert_exporter": "python",
   "pygments_lexer": "ipython2",
   "version": "2.7.6"
  }
 },
 "nbformat": 4,
 "nbformat_minor": 0
}